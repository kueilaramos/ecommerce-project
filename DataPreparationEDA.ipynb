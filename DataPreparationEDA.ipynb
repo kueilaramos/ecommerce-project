{
 "cells": [
  {
   "cell_type": "markdown",
   "metadata": {},
   "source": [
    "# Data Preparation & EDA FINAL\n",
    "\n",
    "Ecommerce sales data\n"
   ]
  },
  {
   "cell_type": "markdown",
   "metadata": {},
   "source": [
    "### Importing libraries"
   ]
  },
  {
   "cell_type": "code",
   "execution_count": 1,
   "metadata": {},
   "outputs": [],
   "source": [
    "import pandas as pd\n",
    "import numpy as np\n",
    "import matplotlib.pyplot as plt\n",
    "import seaborn as sns\n",
    "pd.set_option('display.max_columns', 20)\n",
    "%matplotlib inline  "
   ]
  },
  {
   "cell_type": "markdown",
   "metadata": {},
   "source": [
    "### Load the data into DataFrame"
   ]
  },
  {
   "cell_type": "code",
   "execution_count": 36,
   "metadata": {},
   "outputs": [],
   "source": [
    "path='data.csv'\n",
    "data=pd.read_csv(path, encoding='ISO-8859-1') #specify encoding to deal with different formats"
   ]
  },
  {
   "cell_type": "markdown",
   "metadata": {},
   "source": [
    "### Read the n first rows and n last rows"
   ]
  },
  {
   "cell_type": "code",
   "execution_count": 37,
   "metadata": {
    "scrolled": true
   },
   "outputs": [
    {
     "data": {
      "text/html": [
       "<div>\n",
       "<style scoped>\n",
       "    .dataframe tbody tr th:only-of-type {\n",
       "        vertical-align: middle;\n",
       "    }\n",
       "\n",
       "    .dataframe tbody tr th {\n",
       "        vertical-align: top;\n",
       "    }\n",
       "\n",
       "    .dataframe thead th {\n",
       "        text-align: right;\n",
       "    }\n",
       "</style>\n",
       "<table border=\"1\" class=\"dataframe\">\n",
       "  <thead>\n",
       "    <tr style=\"text-align: right;\">\n",
       "      <th></th>\n",
       "      <th>InvoiceNo</th>\n",
       "      <th>StockCode</th>\n",
       "      <th>Description</th>\n",
       "      <th>Quantity</th>\n",
       "      <th>InvoiceDate</th>\n",
       "      <th>UnitPrice</th>\n",
       "      <th>CustomerID</th>\n",
       "      <th>Country</th>\n",
       "    </tr>\n",
       "  </thead>\n",
       "  <tbody>\n",
       "    <tr>\n",
       "      <th>0</th>\n",
       "      <td>536365</td>\n",
       "      <td>85123A</td>\n",
       "      <td>WHITE HANGING HEART T-LIGHT HOLDER</td>\n",
       "      <td>6</td>\n",
       "      <td>12/1/2010 8:26</td>\n",
       "      <td>2.55</td>\n",
       "      <td>17850.0</td>\n",
       "      <td>United Kingdom</td>\n",
       "    </tr>\n",
       "    <tr>\n",
       "      <th>1</th>\n",
       "      <td>536365</td>\n",
       "      <td>71053</td>\n",
       "      <td>WHITE METAL LANTERN</td>\n",
       "      <td>6</td>\n",
       "      <td>12/1/2010 8:26</td>\n",
       "      <td>3.39</td>\n",
       "      <td>17850.0</td>\n",
       "      <td>United Kingdom</td>\n",
       "    </tr>\n",
       "    <tr>\n",
       "      <th>2</th>\n",
       "      <td>536365</td>\n",
       "      <td>84406B</td>\n",
       "      <td>CREAM CUPID HEARTS COAT HANGER</td>\n",
       "      <td>8</td>\n",
       "      <td>12/1/2010 8:26</td>\n",
       "      <td>2.75</td>\n",
       "      <td>17850.0</td>\n",
       "      <td>United Kingdom</td>\n",
       "    </tr>\n",
       "    <tr>\n",
       "      <th>3</th>\n",
       "      <td>536365</td>\n",
       "      <td>84029G</td>\n",
       "      <td>KNITTED UNION FLAG HOT WATER BOTTLE</td>\n",
       "      <td>6</td>\n",
       "      <td>12/1/2010 8:26</td>\n",
       "      <td>3.39</td>\n",
       "      <td>17850.0</td>\n",
       "      <td>United Kingdom</td>\n",
       "    </tr>\n",
       "    <tr>\n",
       "      <th>4</th>\n",
       "      <td>536365</td>\n",
       "      <td>84029E</td>\n",
       "      <td>RED WOOLLY HOTTIE WHITE HEART.</td>\n",
       "      <td>6</td>\n",
       "      <td>12/1/2010 8:26</td>\n",
       "      <td>3.39</td>\n",
       "      <td>17850.0</td>\n",
       "      <td>United Kingdom</td>\n",
       "    </tr>\n",
       "  </tbody>\n",
       "</table>\n",
       "</div>"
      ],
      "text/plain": [
       "  InvoiceNo StockCode                          Description  Quantity  \\\n",
       "0    536365    85123A   WHITE HANGING HEART T-LIGHT HOLDER         6   \n",
       "1    536365     71053                  WHITE METAL LANTERN         6   \n",
       "2    536365    84406B       CREAM CUPID HEARTS COAT HANGER         8   \n",
       "3    536365    84029G  KNITTED UNION FLAG HOT WATER BOTTLE         6   \n",
       "4    536365    84029E       RED WOOLLY HOTTIE WHITE HEART.         6   \n",
       "\n",
       "      InvoiceDate  UnitPrice  CustomerID         Country  \n",
       "0  12/1/2010 8:26       2.55     17850.0  United Kingdom  \n",
       "1  12/1/2010 8:26       3.39     17850.0  United Kingdom  \n",
       "2  12/1/2010 8:26       2.75     17850.0  United Kingdom  \n",
       "3  12/1/2010 8:26       3.39     17850.0  United Kingdom  \n",
       "4  12/1/2010 8:26       3.39     17850.0  United Kingdom  "
      ]
     },
     "execution_count": 37,
     "metadata": {},
     "output_type": "execute_result"
    }
   ],
   "source": [
    "data.head()"
   ]
  },
  {
   "cell_type": "code",
   "execution_count": 38,
   "metadata": {
    "scrolled": true
   },
   "outputs": [
    {
     "data": {
      "text/html": [
       "<div>\n",
       "<style scoped>\n",
       "    .dataframe tbody tr th:only-of-type {\n",
       "        vertical-align: middle;\n",
       "    }\n",
       "\n",
       "    .dataframe tbody tr th {\n",
       "        vertical-align: top;\n",
       "    }\n",
       "\n",
       "    .dataframe thead th {\n",
       "        text-align: right;\n",
       "    }\n",
       "</style>\n",
       "<table border=\"1\" class=\"dataframe\">\n",
       "  <thead>\n",
       "    <tr style=\"text-align: right;\">\n",
       "      <th></th>\n",
       "      <th>InvoiceNo</th>\n",
       "      <th>StockCode</th>\n",
       "      <th>Description</th>\n",
       "      <th>Quantity</th>\n",
       "      <th>InvoiceDate</th>\n",
       "      <th>UnitPrice</th>\n",
       "      <th>CustomerID</th>\n",
       "      <th>Country</th>\n",
       "    </tr>\n",
       "  </thead>\n",
       "  <tbody>\n",
       "    <tr>\n",
       "      <th>541904</th>\n",
       "      <td>581587</td>\n",
       "      <td>22613</td>\n",
       "      <td>PACK OF 20 SPACEBOY NAPKINS</td>\n",
       "      <td>12</td>\n",
       "      <td>12/9/2011 12:50</td>\n",
       "      <td>0.85</td>\n",
       "      <td>12680.0</td>\n",
       "      <td>France</td>\n",
       "    </tr>\n",
       "    <tr>\n",
       "      <th>541905</th>\n",
       "      <td>581587</td>\n",
       "      <td>22899</td>\n",
       "      <td>CHILDREN'S APRON DOLLY GIRL</td>\n",
       "      <td>6</td>\n",
       "      <td>12/9/2011 12:50</td>\n",
       "      <td>2.10</td>\n",
       "      <td>12680.0</td>\n",
       "      <td>France</td>\n",
       "    </tr>\n",
       "    <tr>\n",
       "      <th>541906</th>\n",
       "      <td>581587</td>\n",
       "      <td>23254</td>\n",
       "      <td>CHILDRENS CUTLERY DOLLY GIRL</td>\n",
       "      <td>4</td>\n",
       "      <td>12/9/2011 12:50</td>\n",
       "      <td>4.15</td>\n",
       "      <td>12680.0</td>\n",
       "      <td>France</td>\n",
       "    </tr>\n",
       "    <tr>\n",
       "      <th>541907</th>\n",
       "      <td>581587</td>\n",
       "      <td>23255</td>\n",
       "      <td>CHILDRENS CUTLERY CIRCUS PARADE</td>\n",
       "      <td>4</td>\n",
       "      <td>12/9/2011 12:50</td>\n",
       "      <td>4.15</td>\n",
       "      <td>12680.0</td>\n",
       "      <td>France</td>\n",
       "    </tr>\n",
       "    <tr>\n",
       "      <th>541908</th>\n",
       "      <td>581587</td>\n",
       "      <td>22138</td>\n",
       "      <td>BAKING SET 9 PIECE RETROSPOT</td>\n",
       "      <td>3</td>\n",
       "      <td>12/9/2011 12:50</td>\n",
       "      <td>4.95</td>\n",
       "      <td>12680.0</td>\n",
       "      <td>France</td>\n",
       "    </tr>\n",
       "  </tbody>\n",
       "</table>\n",
       "</div>"
      ],
      "text/plain": [
       "       InvoiceNo StockCode                      Description  Quantity  \\\n",
       "541904    581587     22613      PACK OF 20 SPACEBOY NAPKINS        12   \n",
       "541905    581587     22899     CHILDREN'S APRON DOLLY GIRL          6   \n",
       "541906    581587     23254    CHILDRENS CUTLERY DOLLY GIRL          4   \n",
       "541907    581587     23255  CHILDRENS CUTLERY CIRCUS PARADE         4   \n",
       "541908    581587     22138    BAKING SET 9 PIECE RETROSPOT          3   \n",
       "\n",
       "            InvoiceDate  UnitPrice  CustomerID Country  \n",
       "541904  12/9/2011 12:50       0.85     12680.0  France  \n",
       "541905  12/9/2011 12:50       2.10     12680.0  France  \n",
       "541906  12/9/2011 12:50       4.15     12680.0  France  \n",
       "541907  12/9/2011 12:50       4.15     12680.0  France  \n",
       "541908  12/9/2011 12:50       4.95     12680.0  France  "
      ]
     },
     "execution_count": 38,
     "metadata": {},
     "output_type": "execute_result"
    }
   ],
   "source": [
    "data.tail()"
   ]
  },
  {
   "cell_type": "markdown",
   "metadata": {},
   "source": [
    "Each line of the dataset corresponds to an order made by a customer"
   ]
  },
  {
   "cell_type": "code",
   "execution_count": 39,
   "metadata": {
    "scrolled": true
   },
   "outputs": [
    {
     "data": {
      "text/plain": [
       "(541909, 8)"
      ]
     },
     "execution_count": 39,
     "metadata": {},
     "output_type": "execute_result"
    }
   ],
   "source": [
    "data.shape"
   ]
  },
  {
   "cell_type": "markdown",
   "metadata": {},
   "source": [
    "we have 541909 rows and 8 columns in the dataset"
   ]
  },
  {
   "cell_type": "markdown",
   "metadata": {},
   "source": [
    "Task 1:\n",
    "\n",
    "    1.rename the columns to lowercase\n",
    "    2. rename text from column \"description\" to lower case  "
   ]
  },
  {
   "cell_type": "markdown",
   "metadata": {},
   "source": [
    "##### 1 - Renaming columns label and row "
   ]
  },
  {
   "cell_type": "code",
   "execution_count": 40,
   "metadata": {},
   "outputs": [
    {
     "data": {
      "text/html": [
       "<div>\n",
       "<style scoped>\n",
       "    .dataframe tbody tr th:only-of-type {\n",
       "        vertical-align: middle;\n",
       "    }\n",
       "\n",
       "    .dataframe tbody tr th {\n",
       "        vertical-align: top;\n",
       "    }\n",
       "\n",
       "    .dataframe thead th {\n",
       "        text-align: right;\n",
       "    }\n",
       "</style>\n",
       "<table border=\"1\" class=\"dataframe\">\n",
       "  <thead>\n",
       "    <tr style=\"text-align: right;\">\n",
       "      <th></th>\n",
       "      <th>invoice_no</th>\n",
       "      <th>stock_code</th>\n",
       "      <th>description</th>\n",
       "      <th>quantity</th>\n",
       "      <th>invoice_date</th>\n",
       "      <th>unit_price</th>\n",
       "      <th>customer_id</th>\n",
       "      <th>country</th>\n",
       "    </tr>\n",
       "  </thead>\n",
       "  <tbody>\n",
       "    <tr>\n",
       "      <th>0</th>\n",
       "      <td>536365</td>\n",
       "      <td>85123A</td>\n",
       "      <td>white hanging heart t-light holder</td>\n",
       "      <td>6</td>\n",
       "      <td>12/1/2010 8:26</td>\n",
       "      <td>2.55</td>\n",
       "      <td>17850.0</td>\n",
       "      <td>United Kingdom</td>\n",
       "    </tr>\n",
       "    <tr>\n",
       "      <th>1</th>\n",
       "      <td>536365</td>\n",
       "      <td>71053</td>\n",
       "      <td>white metal lantern</td>\n",
       "      <td>6</td>\n",
       "      <td>12/1/2010 8:26</td>\n",
       "      <td>3.39</td>\n",
       "      <td>17850.0</td>\n",
       "      <td>United Kingdom</td>\n",
       "    </tr>\n",
       "    <tr>\n",
       "      <th>2</th>\n",
       "      <td>536365</td>\n",
       "      <td>84406B</td>\n",
       "      <td>cream cupid hearts coat hanger</td>\n",
       "      <td>8</td>\n",
       "      <td>12/1/2010 8:26</td>\n",
       "      <td>2.75</td>\n",
       "      <td>17850.0</td>\n",
       "      <td>United Kingdom</td>\n",
       "    </tr>\n",
       "    <tr>\n",
       "      <th>3</th>\n",
       "      <td>536365</td>\n",
       "      <td>84029G</td>\n",
       "      <td>knitted union flag hot water bottle</td>\n",
       "      <td>6</td>\n",
       "      <td>12/1/2010 8:26</td>\n",
       "      <td>3.39</td>\n",
       "      <td>17850.0</td>\n",
       "      <td>United Kingdom</td>\n",
       "    </tr>\n",
       "    <tr>\n",
       "      <th>4</th>\n",
       "      <td>536365</td>\n",
       "      <td>84029E</td>\n",
       "      <td>red woolly hottie white heart.</td>\n",
       "      <td>6</td>\n",
       "      <td>12/1/2010 8:26</td>\n",
       "      <td>3.39</td>\n",
       "      <td>17850.0</td>\n",
       "      <td>United Kingdom</td>\n",
       "    </tr>\n",
       "  </tbody>\n",
       "</table>\n",
       "</div>"
      ],
      "text/plain": [
       "  invoice_no stock_code                          description  quantity  \\\n",
       "0     536365     85123A   white hanging heart t-light holder         6   \n",
       "1     536365      71053                  white metal lantern         6   \n",
       "2     536365     84406B       cream cupid hearts coat hanger         8   \n",
       "3     536365     84029G  knitted union flag hot water bottle         6   \n",
       "4     536365     84029E       red woolly hottie white heart.         6   \n",
       "\n",
       "     invoice_date  unit_price  customer_id         country  \n",
       "0  12/1/2010 8:26        2.55      17850.0  United Kingdom  \n",
       "1  12/1/2010 8:26        3.39      17850.0  United Kingdom  \n",
       "2  12/1/2010 8:26        2.75      17850.0  United Kingdom  \n",
       "3  12/1/2010 8:26        3.39      17850.0  United Kingdom  \n",
       "4  12/1/2010 8:26        3.39      17850.0  United Kingdom  "
      ]
     },
     "execution_count": 40,
     "metadata": {},
     "output_type": "execute_result"
    }
   ],
   "source": [
    "#1.rename the columns to lowercase and put an underscore to separate the column name\n",
    "\n",
    "data.columns=[str.lower() for str in data.columns]   #or dataset.columns=map(str.lower, dataset.columns) \n",
    "data=data.rename(columns = {'invoiceno': 'invoice_no',  \n",
    "                            'stockcode':'stock_code',                                  \n",
    "                          'invoicedate': 'invoice_date',\n",
    "                            'unitprice': 'unit_price', \n",
    "                            'customerid':'customer_id',\n",
    "            \n",
    "                           }, inplace=False)\n",
    "\n",
    "#2.rename text from column \"description\" to lower case\n",
    "\n",
    "#data['description'] = [str.lower() for str in data['description']] -> this method give an error so I using this other method:\n",
    "data['description']=data['description'].str.lower()\n",
    "\n",
    "\n",
    "#see how it looks:\n",
    "data.head()\n"
   ]
  },
  {
   "cell_type": "code",
   "execution_count": 41,
   "metadata": {},
   "outputs": [],
   "source": [
    "#making a copy of the dataset\n",
    "dataset=data.copy() "
   ]
  },
  {
   "cell_type": "markdown",
   "metadata": {},
   "source": [
    "#### Understanding the data\n",
    "Displaying Data Types"
   ]
  },
  {
   "cell_type": "code",
   "execution_count": 42,
   "metadata": {
    "scrolled": true
   },
   "outputs": [
    {
     "name": "stdout",
     "output_type": "stream",
     "text": [
      "<class 'pandas.core.frame.DataFrame'>\n",
      "RangeIndex: 541909 entries, 0 to 541908\n",
      "Data columns (total 8 columns):\n",
      " #   Column        Non-Null Count   Dtype  \n",
      "---  ------        --------------   -----  \n",
      " 0   invoice_no    541909 non-null  object \n",
      " 1   stock_code    541909 non-null  object \n",
      " 2   description   540455 non-null  object \n",
      " 3   quantity      541909 non-null  int64  \n",
      " 4   invoice_date  541909 non-null  object \n",
      " 5   unit_price    541909 non-null  float64\n",
      " 6   customer_id   406829 non-null  float64\n",
      " 7   country       541909 non-null  object \n",
      "dtypes: float64(2), int64(1), object(5)\n",
      "memory usage: 33.1+ MB\n"
     ]
    }
   ],
   "source": [
    "dataset.info()"
   ]
  },
  {
   "cell_type": "markdown",
   "metadata": {},
   "source": [
    "Even though the first 3 columns are objects, we can see from the data that we have mixed columns..\n",
    "The file  contains over 540,000 transactions made by the customers.\n",
    "\n",
    "invoive_date - contains the date of the purchase,\n",
    "\n",
    "columns: invoice_no, stock_no and customer_id - is a unique identifier for each transactions and customer,\n",
    "\n",
    "column description - contain information about the product,\n",
    "\n",
    "columns Country - contain the location of the store,\n",
    "\n",
    "the columns (quantity and unit_price) indicate the number of items purchased and the unit price per product.\n",
    "\n",
    "Tasks:\n",
    "    1. check for types of the data\n",
    " \n",
    "    2. check missing values (we have missing values in customer_id and description)\n",
    "    \n",
    "    3. Check Duplicated value"
   ]
  },
  {
   "cell_type": "markdown",
   "metadata": {},
   "source": [
    "#### task 2: Checking data types"
   ]
  },
  {
   "cell_type": "code",
   "execution_count": null,
   "metadata": {},
   "outputs": [],
   "source": [
    "dtypeCount =[dataset.iloc[:,i].apply(type).value_counts() for i in range(dataset.shape[1])]\n",
    "#putting the result into a dataframe for better understanding:\n",
    "pd.DataFrame(dtypeCount)"
   ]
  },
  {
   "cell_type": "raw",
   "metadata": {},
   "source": [
    "observation:\n",
    "\n",
    "There are some concerns:\n",
    "   \n",
    "    - description: we can clearly see that our data has type that must be change. \n",
    "         in the column discription that we have two different types of data: a string and a float numbers\n",
    "         we must to change this because it migth cause problems in forward analysis.\n",
    "         \n",
    "    - invoice_date is a string and it should be a datetime format\n",
    "    \n",
    "    - customer_id is float but we can transform it to a string.\n"
   ]
  },
  {
   "cell_type": "code",
   "execution_count": 44,
   "metadata": {
    "scrolled": true
   },
   "outputs": [
    {
     "ename": "ValueError",
     "evalue": "Cannot convert non-finite values (NA or inf) to integer",
     "output_type": "error",
     "traceback": [
      "\u001b[1;31m---------------------------------------------------------------------------\u001b[0m",
      "\u001b[1;31mValueError\u001b[0m                                Traceback (most recent call last)",
      "\u001b[1;32m<ipython-input-44-9d78fe0c6389>\u001b[0m in \u001b[0;36m<module>\u001b[1;34m\u001b[0m\n\u001b[0;32m      1\u001b[0m \u001b[1;31m#Changing data type\u001b[0m\u001b[1;33m\u001b[0m\u001b[1;33m\u001b[0m\u001b[1;33m\u001b[0m\u001b[0m\n\u001b[0;32m      2\u001b[0m \u001b[0mdataset\u001b[0m\u001b[1;33m[\u001b[0m\u001b[1;34m'invoice_date'\u001b[0m\u001b[1;33m]\u001b[0m\u001b[1;33m=\u001b[0m\u001b[0mpd\u001b[0m\u001b[1;33m.\u001b[0m\u001b[0mto_datetime\u001b[0m\u001b[1;33m(\u001b[0m\u001b[0mdataset\u001b[0m\u001b[1;33m[\u001b[0m\u001b[1;34m'invoice_date'\u001b[0m\u001b[1;33m]\u001b[0m\u001b[1;33m)\u001b[0m\u001b[1;33m\u001b[0m\u001b[1;33m\u001b[0m\u001b[0m\n\u001b[1;32m----> 3\u001b[1;33m \u001b[0mdataset\u001b[0m\u001b[1;33m[\u001b[0m\u001b[1;34m'customer_id'\u001b[0m\u001b[1;33m]\u001b[0m\u001b[1;33m=\u001b[0m\u001b[0mdataset\u001b[0m\u001b[1;33m[\u001b[0m\u001b[1;34m'customer_id'\u001b[0m\u001b[1;33m]\u001b[0m\u001b[1;33m.\u001b[0m\u001b[0mastype\u001b[0m\u001b[1;33m(\u001b[0m\u001b[0mint\u001b[0m\u001b[1;33m)\u001b[0m\u001b[1;33m\u001b[0m\u001b[1;33m\u001b[0m\u001b[0m\n\u001b[0m",
      "\u001b[1;32m~\\AppData\\Roaming\\Python\\Python37\\site-packages\\pandas\\core\\generic.py\u001b[0m in \u001b[0;36mastype\u001b[1;34m(self, dtype, copy, errors)\u001b[0m\n\u001b[0;32m   5535\u001b[0m         \u001b[1;32melse\u001b[0m\u001b[1;33m:\u001b[0m\u001b[1;33m\u001b[0m\u001b[1;33m\u001b[0m\u001b[0m\n\u001b[0;32m   5536\u001b[0m             \u001b[1;31m# else, only a single dtype is given\u001b[0m\u001b[1;33m\u001b[0m\u001b[1;33m\u001b[0m\u001b[1;33m\u001b[0m\u001b[0m\n\u001b[1;32m-> 5537\u001b[1;33m             \u001b[0mnew_data\u001b[0m \u001b[1;33m=\u001b[0m \u001b[0mself\u001b[0m\u001b[1;33m.\u001b[0m\u001b[0m_mgr\u001b[0m\u001b[1;33m.\u001b[0m\u001b[0mastype\u001b[0m\u001b[1;33m(\u001b[0m\u001b[0mdtype\u001b[0m\u001b[1;33m=\u001b[0m\u001b[0mdtype\u001b[0m\u001b[1;33m,\u001b[0m \u001b[0mcopy\u001b[0m\u001b[1;33m=\u001b[0m\u001b[0mcopy\u001b[0m\u001b[1;33m,\u001b[0m \u001b[0merrors\u001b[0m\u001b[1;33m=\u001b[0m\u001b[0merrors\u001b[0m\u001b[1;33m,\u001b[0m\u001b[1;33m)\u001b[0m\u001b[1;33m\u001b[0m\u001b[1;33m\u001b[0m\u001b[0m\n\u001b[0m\u001b[0;32m   5538\u001b[0m             \u001b[1;32mreturn\u001b[0m \u001b[0mself\u001b[0m\u001b[1;33m.\u001b[0m\u001b[0m_constructor\u001b[0m\u001b[1;33m(\u001b[0m\u001b[0mnew_data\u001b[0m\u001b[1;33m)\u001b[0m\u001b[1;33m.\u001b[0m\u001b[0m__finalize__\u001b[0m\u001b[1;33m(\u001b[0m\u001b[0mself\u001b[0m\u001b[1;33m,\u001b[0m \u001b[0mmethod\u001b[0m\u001b[1;33m=\u001b[0m\u001b[1;34m\"astype\"\u001b[0m\u001b[1;33m)\u001b[0m\u001b[1;33m\u001b[0m\u001b[1;33m\u001b[0m\u001b[0m\n\u001b[0;32m   5539\u001b[0m \u001b[1;33m\u001b[0m\u001b[0m\n",
      "\u001b[1;32m~\\AppData\\Roaming\\Python\\Python37\\site-packages\\pandas\\core\\internals\\managers.py\u001b[0m in \u001b[0;36mastype\u001b[1;34m(self, dtype, copy, errors)\u001b[0m\n\u001b[0;32m    565\u001b[0m         \u001b[0mself\u001b[0m\u001b[1;33m,\u001b[0m \u001b[0mdtype\u001b[0m\u001b[1;33m,\u001b[0m \u001b[0mcopy\u001b[0m\u001b[1;33m:\u001b[0m \u001b[0mbool\u001b[0m \u001b[1;33m=\u001b[0m \u001b[1;32mFalse\u001b[0m\u001b[1;33m,\u001b[0m \u001b[0merrors\u001b[0m\u001b[1;33m:\u001b[0m \u001b[0mstr\u001b[0m \u001b[1;33m=\u001b[0m \u001b[1;34m\"raise\"\u001b[0m\u001b[1;33m\u001b[0m\u001b[1;33m\u001b[0m\u001b[0m\n\u001b[0;32m    566\u001b[0m     ) -> \"BlockManager\":\n\u001b[1;32m--> 567\u001b[1;33m         \u001b[1;32mreturn\u001b[0m \u001b[0mself\u001b[0m\u001b[1;33m.\u001b[0m\u001b[0mapply\u001b[0m\u001b[1;33m(\u001b[0m\u001b[1;34m\"astype\"\u001b[0m\u001b[1;33m,\u001b[0m \u001b[0mdtype\u001b[0m\u001b[1;33m=\u001b[0m\u001b[0mdtype\u001b[0m\u001b[1;33m,\u001b[0m \u001b[0mcopy\u001b[0m\u001b[1;33m=\u001b[0m\u001b[0mcopy\u001b[0m\u001b[1;33m,\u001b[0m \u001b[0merrors\u001b[0m\u001b[1;33m=\u001b[0m\u001b[0merrors\u001b[0m\u001b[1;33m)\u001b[0m\u001b[1;33m\u001b[0m\u001b[1;33m\u001b[0m\u001b[0m\n\u001b[0m\u001b[0;32m    568\u001b[0m \u001b[1;33m\u001b[0m\u001b[0m\n\u001b[0;32m    569\u001b[0m     def convert(\n",
      "\u001b[1;32m~\\AppData\\Roaming\\Python\\Python37\\site-packages\\pandas\\core\\internals\\managers.py\u001b[0m in \u001b[0;36mapply\u001b[1;34m(self, f, align_keys, **kwargs)\u001b[0m\n\u001b[0;32m    394\u001b[0m                 \u001b[0mapplied\u001b[0m \u001b[1;33m=\u001b[0m \u001b[0mb\u001b[0m\u001b[1;33m.\u001b[0m\u001b[0mapply\u001b[0m\u001b[1;33m(\u001b[0m\u001b[0mf\u001b[0m\u001b[1;33m,\u001b[0m \u001b[1;33m**\u001b[0m\u001b[0mkwargs\u001b[0m\u001b[1;33m)\u001b[0m\u001b[1;33m\u001b[0m\u001b[1;33m\u001b[0m\u001b[0m\n\u001b[0;32m    395\u001b[0m             \u001b[1;32melse\u001b[0m\u001b[1;33m:\u001b[0m\u001b[1;33m\u001b[0m\u001b[1;33m\u001b[0m\u001b[0m\n\u001b[1;32m--> 396\u001b[1;33m                 \u001b[0mapplied\u001b[0m \u001b[1;33m=\u001b[0m \u001b[0mgetattr\u001b[0m\u001b[1;33m(\u001b[0m\u001b[0mb\u001b[0m\u001b[1;33m,\u001b[0m \u001b[0mf\u001b[0m\u001b[1;33m)\u001b[0m\u001b[1;33m(\u001b[0m\u001b[1;33m**\u001b[0m\u001b[0mkwargs\u001b[0m\u001b[1;33m)\u001b[0m\u001b[1;33m\u001b[0m\u001b[1;33m\u001b[0m\u001b[0m\n\u001b[0m\u001b[0;32m    397\u001b[0m             \u001b[0mresult_blocks\u001b[0m \u001b[1;33m=\u001b[0m \u001b[0m_extend_blocks\u001b[0m\u001b[1;33m(\u001b[0m\u001b[0mapplied\u001b[0m\u001b[1;33m,\u001b[0m \u001b[0mresult_blocks\u001b[0m\u001b[1;33m)\u001b[0m\u001b[1;33m\u001b[0m\u001b[1;33m\u001b[0m\u001b[0m\n\u001b[0;32m    398\u001b[0m \u001b[1;33m\u001b[0m\u001b[0m\n",
      "\u001b[1;32m~\\AppData\\Roaming\\Python\\Python37\\site-packages\\pandas\\core\\internals\\blocks.py\u001b[0m in \u001b[0;36mastype\u001b[1;34m(self, dtype, copy, errors)\u001b[0m\n\u001b[0;32m    588\u001b[0m             \u001b[0mvals1d\u001b[0m \u001b[1;33m=\u001b[0m \u001b[0mvalues\u001b[0m\u001b[1;33m.\u001b[0m\u001b[0mravel\u001b[0m\u001b[1;33m(\u001b[0m\u001b[1;33m)\u001b[0m\u001b[1;33m\u001b[0m\u001b[1;33m\u001b[0m\u001b[0m\n\u001b[0;32m    589\u001b[0m             \u001b[1;32mtry\u001b[0m\u001b[1;33m:\u001b[0m\u001b[1;33m\u001b[0m\u001b[1;33m\u001b[0m\u001b[0m\n\u001b[1;32m--> 590\u001b[1;33m                 \u001b[0mvalues\u001b[0m \u001b[1;33m=\u001b[0m \u001b[0mastype_nansafe\u001b[0m\u001b[1;33m(\u001b[0m\u001b[0mvals1d\u001b[0m\u001b[1;33m,\u001b[0m \u001b[0mdtype\u001b[0m\u001b[1;33m,\u001b[0m \u001b[0mcopy\u001b[0m\u001b[1;33m=\u001b[0m\u001b[1;32mTrue\u001b[0m\u001b[1;33m)\u001b[0m\u001b[1;33m\u001b[0m\u001b[1;33m\u001b[0m\u001b[0m\n\u001b[0m\u001b[0;32m    591\u001b[0m             \u001b[1;32mexcept\u001b[0m \u001b[1;33m(\u001b[0m\u001b[0mValueError\u001b[0m\u001b[1;33m,\u001b[0m \u001b[0mTypeError\u001b[0m\u001b[1;33m)\u001b[0m\u001b[1;33m:\u001b[0m\u001b[1;33m\u001b[0m\u001b[1;33m\u001b[0m\u001b[0m\n\u001b[0;32m    592\u001b[0m                 \u001b[1;31m# e.g. astype_nansafe can fail on object-dtype of strings\u001b[0m\u001b[1;33m\u001b[0m\u001b[1;33m\u001b[0m\u001b[1;33m\u001b[0m\u001b[0m\n",
      "\u001b[1;32m~\\AppData\\Roaming\\Python\\Python37\\site-packages\\pandas\\core\\dtypes\\cast.py\u001b[0m in \u001b[0;36mastype_nansafe\u001b[1;34m(arr, dtype, copy, skipna)\u001b[0m\n\u001b[0;32m    958\u001b[0m \u001b[1;33m\u001b[0m\u001b[0m\n\u001b[0;32m    959\u001b[0m         \u001b[1;32mif\u001b[0m \u001b[1;32mnot\u001b[0m \u001b[0mnp\u001b[0m\u001b[1;33m.\u001b[0m\u001b[0misfinite\u001b[0m\u001b[1;33m(\u001b[0m\u001b[0marr\u001b[0m\u001b[1;33m)\u001b[0m\u001b[1;33m.\u001b[0m\u001b[0mall\u001b[0m\u001b[1;33m(\u001b[0m\u001b[1;33m)\u001b[0m\u001b[1;33m:\u001b[0m\u001b[1;33m\u001b[0m\u001b[1;33m\u001b[0m\u001b[0m\n\u001b[1;32m--> 960\u001b[1;33m             \u001b[1;32mraise\u001b[0m \u001b[0mValueError\u001b[0m\u001b[1;33m(\u001b[0m\u001b[1;34m\"Cannot convert non-finite values (NA or inf) to integer\"\u001b[0m\u001b[1;33m)\u001b[0m\u001b[1;33m\u001b[0m\u001b[1;33m\u001b[0m\u001b[0m\n\u001b[0m\u001b[0;32m    961\u001b[0m \u001b[1;33m\u001b[0m\u001b[0m\n\u001b[0;32m    962\u001b[0m     \u001b[1;32melif\u001b[0m \u001b[0mis_object_dtype\u001b[0m\u001b[1;33m(\u001b[0m\u001b[0marr\u001b[0m\u001b[1;33m)\u001b[0m\u001b[1;33m:\u001b[0m\u001b[1;33m\u001b[0m\u001b[1;33m\u001b[0m\u001b[0m\n",
      "\u001b[1;31mValueError\u001b[0m: Cannot convert non-finite values (NA or inf) to integer"
     ]
    }
   ],
   "source": [
    "#Changing data type\n",
    "dataset['invoice_date']=pd.to_datetime(dataset['invoice_date'])\n",
    "dataset['customer_id']=dataset['customer_id'].astype(int)\n"
   ]
  },
  {
   "cell_type": "markdown",
   "metadata": {},
   "source": [
    "invoice_data was set to datetime correctly because it doesn´t have missing values but relatively to customer_id, we get an ValueError because we have missing values in the column. To solve this, we must first drop the missing values.\n"
   ]
  },
  {
   "cell_type": "markdown",
   "metadata": {},
   "source": [
    "#### Checking missing values"
   ]
  },
  {
   "cell_type": "code",
   "execution_count": 45,
   "metadata": {},
   "outputs": [
    {
     "data": {
      "text/html": [
       "<style  type=\"text/css\" >\n",
       "</style><table id=\"T_4779833a_8007_11eb_9cbb_a0d37abf142b\" ><thead>    <tr>        <th class=\"blank level0\" ></th>        <th class=\"col_heading level0 col0\" >missing</th>        <th class=\"col_heading level0 col1\" >total</th>        <th class=\"col_heading level0 col2\" >percent</th>    </tr></thead><tbody>\n",
       "                <tr>\n",
       "                        <th id=\"T_4779833a_8007_11eb_9cbb_a0d37abf142blevel0_row0\" class=\"row_heading level0 row0\" >customer_id</th>\n",
       "                        <td id=\"T_4779833a_8007_11eb_9cbb_a0d37abf142brow0_col0\" class=\"data row0 col0\" >135,080</td>\n",
       "                        <td id=\"T_4779833a_8007_11eb_9cbb_a0d37abf142brow0_col1\" class=\"data row0 col1\" >541,909</td>\n",
       "                        <td id=\"T_4779833a_8007_11eb_9cbb_a0d37abf142brow0_col2\" class=\"data row0 col2\" >24.93%</td>\n",
       "            </tr>\n",
       "            <tr>\n",
       "                        <th id=\"T_4779833a_8007_11eb_9cbb_a0d37abf142blevel0_row1\" class=\"row_heading level0 row1\" >description</th>\n",
       "                        <td id=\"T_4779833a_8007_11eb_9cbb_a0d37abf142brow1_col0\" class=\"data row1 col0\" >1,454</td>\n",
       "                        <td id=\"T_4779833a_8007_11eb_9cbb_a0d37abf142brow1_col1\" class=\"data row1 col1\" >541,909</td>\n",
       "                        <td id=\"T_4779833a_8007_11eb_9cbb_a0d37abf142brow1_col2\" class=\"data row1 col2\" >0.27%</td>\n",
       "            </tr>\n",
       "            <tr>\n",
       "                        <th id=\"T_4779833a_8007_11eb_9cbb_a0d37abf142blevel0_row2\" class=\"row_heading level0 row2\" >invoice_no</th>\n",
       "                        <td id=\"T_4779833a_8007_11eb_9cbb_a0d37abf142brow2_col0\" class=\"data row2 col0\" >0</td>\n",
       "                        <td id=\"T_4779833a_8007_11eb_9cbb_a0d37abf142brow2_col1\" class=\"data row2 col1\" >541,909</td>\n",
       "                        <td id=\"T_4779833a_8007_11eb_9cbb_a0d37abf142brow2_col2\" class=\"data row2 col2\" >0.00%</td>\n",
       "            </tr>\n",
       "            <tr>\n",
       "                        <th id=\"T_4779833a_8007_11eb_9cbb_a0d37abf142blevel0_row3\" class=\"row_heading level0 row3\" >stock_code</th>\n",
       "                        <td id=\"T_4779833a_8007_11eb_9cbb_a0d37abf142brow3_col0\" class=\"data row3 col0\" >0</td>\n",
       "                        <td id=\"T_4779833a_8007_11eb_9cbb_a0d37abf142brow3_col1\" class=\"data row3 col1\" >541,909</td>\n",
       "                        <td id=\"T_4779833a_8007_11eb_9cbb_a0d37abf142brow3_col2\" class=\"data row3 col2\" >0.00%</td>\n",
       "            </tr>\n",
       "            <tr>\n",
       "                        <th id=\"T_4779833a_8007_11eb_9cbb_a0d37abf142blevel0_row4\" class=\"row_heading level0 row4\" >quantity</th>\n",
       "                        <td id=\"T_4779833a_8007_11eb_9cbb_a0d37abf142brow4_col0\" class=\"data row4 col0\" >0</td>\n",
       "                        <td id=\"T_4779833a_8007_11eb_9cbb_a0d37abf142brow4_col1\" class=\"data row4 col1\" >541,909</td>\n",
       "                        <td id=\"T_4779833a_8007_11eb_9cbb_a0d37abf142brow4_col2\" class=\"data row4 col2\" >0.00%</td>\n",
       "            </tr>\n",
       "            <tr>\n",
       "                        <th id=\"T_4779833a_8007_11eb_9cbb_a0d37abf142blevel0_row5\" class=\"row_heading level0 row5\" >invoice_date</th>\n",
       "                        <td id=\"T_4779833a_8007_11eb_9cbb_a0d37abf142brow5_col0\" class=\"data row5 col0\" >0</td>\n",
       "                        <td id=\"T_4779833a_8007_11eb_9cbb_a0d37abf142brow5_col1\" class=\"data row5 col1\" >541,909</td>\n",
       "                        <td id=\"T_4779833a_8007_11eb_9cbb_a0d37abf142brow5_col2\" class=\"data row5 col2\" >0.00%</td>\n",
       "            </tr>\n",
       "            <tr>\n",
       "                        <th id=\"T_4779833a_8007_11eb_9cbb_a0d37abf142blevel0_row6\" class=\"row_heading level0 row6\" >unit_price</th>\n",
       "                        <td id=\"T_4779833a_8007_11eb_9cbb_a0d37abf142brow6_col0\" class=\"data row6 col0\" >0</td>\n",
       "                        <td id=\"T_4779833a_8007_11eb_9cbb_a0d37abf142brow6_col1\" class=\"data row6 col1\" >541,909</td>\n",
       "                        <td id=\"T_4779833a_8007_11eb_9cbb_a0d37abf142brow6_col2\" class=\"data row6 col2\" >0.00%</td>\n",
       "            </tr>\n",
       "            <tr>\n",
       "                        <th id=\"T_4779833a_8007_11eb_9cbb_a0d37abf142blevel0_row7\" class=\"row_heading level0 row7\" >country</th>\n",
       "                        <td id=\"T_4779833a_8007_11eb_9cbb_a0d37abf142brow7_col0\" class=\"data row7 col0\" >0</td>\n",
       "                        <td id=\"T_4779833a_8007_11eb_9cbb_a0d37abf142brow7_col1\" class=\"data row7 col1\" >541,909</td>\n",
       "                        <td id=\"T_4779833a_8007_11eb_9cbb_a0d37abf142brow7_col2\" class=\"data row7 col2\" >0.00%</td>\n",
       "            </tr>\n",
       "    </tbody></table>"
      ],
      "text/plain": [
       "<pandas.io.formats.style.Styler at 0x1d95949de08>"
      ]
     },
     "execution_count": 45,
     "metadata": {},
     "output_type": "execute_result"
    }
   ],
   "source": [
    "#check missing value sorting data by descending order\n",
    "import sidetable\n",
    "dataset.stb.missing(style=True)"
   ]
  },
  {
   "cell_type": "code",
   "execution_count": 46,
   "metadata": {
    "scrolled": false
   },
   "outputs": [
    {
     "data": {
      "text/html": [
       "<div>\n",
       "<style scoped>\n",
       "    .dataframe tbody tr th:only-of-type {\n",
       "        vertical-align: middle;\n",
       "    }\n",
       "\n",
       "    .dataframe tbody tr th {\n",
       "        vertical-align: top;\n",
       "    }\n",
       "\n",
       "    .dataframe thead th {\n",
       "        text-align: right;\n",
       "    }\n",
       "</style>\n",
       "<table border=\"1\" class=\"dataframe\">\n",
       "  <thead>\n",
       "    <tr style=\"text-align: right;\">\n",
       "      <th></th>\n",
       "      <th>invoice_no</th>\n",
       "      <th>stock_code</th>\n",
       "      <th>description</th>\n",
       "      <th>quantity</th>\n",
       "      <th>invoice_date</th>\n",
       "      <th>unit_price</th>\n",
       "      <th>customer_id</th>\n",
       "      <th>country</th>\n",
       "    </tr>\n",
       "  </thead>\n",
       "  <tbody>\n",
       "    <tr>\n",
       "      <th>622</th>\n",
       "      <td>536414</td>\n",
       "      <td>22139</td>\n",
       "      <td>NaN</td>\n",
       "      <td>56</td>\n",
       "      <td>2010-12-01 11:52:00</td>\n",
       "      <td>0.0</td>\n",
       "      <td>NaN</td>\n",
       "      <td>United Kingdom</td>\n",
       "    </tr>\n",
       "    <tr>\n",
       "      <th>1970</th>\n",
       "      <td>536545</td>\n",
       "      <td>21134</td>\n",
       "      <td>NaN</td>\n",
       "      <td>1</td>\n",
       "      <td>2010-12-01 14:32:00</td>\n",
       "      <td>0.0</td>\n",
       "      <td>NaN</td>\n",
       "      <td>United Kingdom</td>\n",
       "    </tr>\n",
       "    <tr>\n",
       "      <th>1971</th>\n",
       "      <td>536546</td>\n",
       "      <td>22145</td>\n",
       "      <td>NaN</td>\n",
       "      <td>1</td>\n",
       "      <td>2010-12-01 14:33:00</td>\n",
       "      <td>0.0</td>\n",
       "      <td>NaN</td>\n",
       "      <td>United Kingdom</td>\n",
       "    </tr>\n",
       "    <tr>\n",
       "      <th>1972</th>\n",
       "      <td>536547</td>\n",
       "      <td>37509</td>\n",
       "      <td>NaN</td>\n",
       "      <td>1</td>\n",
       "      <td>2010-12-01 14:33:00</td>\n",
       "      <td>0.0</td>\n",
       "      <td>NaN</td>\n",
       "      <td>United Kingdom</td>\n",
       "    </tr>\n",
       "    <tr>\n",
       "      <th>1987</th>\n",
       "      <td>536549</td>\n",
       "      <td>85226A</td>\n",
       "      <td>NaN</td>\n",
       "      <td>1</td>\n",
       "      <td>2010-12-01 14:34:00</td>\n",
       "      <td>0.0</td>\n",
       "      <td>NaN</td>\n",
       "      <td>United Kingdom</td>\n",
       "    </tr>\n",
       "    <tr>\n",
       "      <th>...</th>\n",
       "      <td>...</td>\n",
       "      <td>...</td>\n",
       "      <td>...</td>\n",
       "      <td>...</td>\n",
       "      <td>...</td>\n",
       "      <td>...</td>\n",
       "      <td>...</td>\n",
       "      <td>...</td>\n",
       "    </tr>\n",
       "    <tr>\n",
       "      <th>535322</th>\n",
       "      <td>581199</td>\n",
       "      <td>84581</td>\n",
       "      <td>NaN</td>\n",
       "      <td>-2</td>\n",
       "      <td>2011-12-07 18:26:00</td>\n",
       "      <td>0.0</td>\n",
       "      <td>NaN</td>\n",
       "      <td>United Kingdom</td>\n",
       "    </tr>\n",
       "    <tr>\n",
       "      <th>535326</th>\n",
       "      <td>581203</td>\n",
       "      <td>23406</td>\n",
       "      <td>NaN</td>\n",
       "      <td>15</td>\n",
       "      <td>2011-12-07 18:31:00</td>\n",
       "      <td>0.0</td>\n",
       "      <td>NaN</td>\n",
       "      <td>United Kingdom</td>\n",
       "    </tr>\n",
       "    <tr>\n",
       "      <th>535332</th>\n",
       "      <td>581209</td>\n",
       "      <td>21620</td>\n",
       "      <td>NaN</td>\n",
       "      <td>6</td>\n",
       "      <td>2011-12-07 18:35:00</td>\n",
       "      <td>0.0</td>\n",
       "      <td>NaN</td>\n",
       "      <td>United Kingdom</td>\n",
       "    </tr>\n",
       "    <tr>\n",
       "      <th>536981</th>\n",
       "      <td>581234</td>\n",
       "      <td>72817</td>\n",
       "      <td>NaN</td>\n",
       "      <td>27</td>\n",
       "      <td>2011-12-08 10:33:00</td>\n",
       "      <td>0.0</td>\n",
       "      <td>NaN</td>\n",
       "      <td>United Kingdom</td>\n",
       "    </tr>\n",
       "    <tr>\n",
       "      <th>538554</th>\n",
       "      <td>581408</td>\n",
       "      <td>85175</td>\n",
       "      <td>NaN</td>\n",
       "      <td>20</td>\n",
       "      <td>2011-12-08 14:06:00</td>\n",
       "      <td>0.0</td>\n",
       "      <td>NaN</td>\n",
       "      <td>United Kingdom</td>\n",
       "    </tr>\n",
       "  </tbody>\n",
       "</table>\n",
       "<p>1454 rows × 8 columns</p>\n",
       "</div>"
      ],
      "text/plain": [
       "       invoice_no stock_code description  quantity        invoice_date  \\\n",
       "622        536414      22139         NaN        56 2010-12-01 11:52:00   \n",
       "1970       536545      21134         NaN         1 2010-12-01 14:32:00   \n",
       "1971       536546      22145         NaN         1 2010-12-01 14:33:00   \n",
       "1972       536547      37509         NaN         1 2010-12-01 14:33:00   \n",
       "1987       536549     85226A         NaN         1 2010-12-01 14:34:00   \n",
       "...           ...        ...         ...       ...                 ...   \n",
       "535322     581199      84581         NaN        -2 2011-12-07 18:26:00   \n",
       "535326     581203      23406         NaN        15 2011-12-07 18:31:00   \n",
       "535332     581209      21620         NaN         6 2011-12-07 18:35:00   \n",
       "536981     581234      72817         NaN        27 2011-12-08 10:33:00   \n",
       "538554     581408      85175         NaN        20 2011-12-08 14:06:00   \n",
       "\n",
       "        unit_price  customer_id         country  \n",
       "622            0.0          NaN  United Kingdom  \n",
       "1970           0.0          NaN  United Kingdom  \n",
       "1971           0.0          NaN  United Kingdom  \n",
       "1972           0.0          NaN  United Kingdom  \n",
       "1987           0.0          NaN  United Kingdom  \n",
       "...            ...          ...             ...  \n",
       "535322         0.0          NaN  United Kingdom  \n",
       "535326         0.0          NaN  United Kingdom  \n",
       "535332         0.0          NaN  United Kingdom  \n",
       "536981         0.0          NaN  United Kingdom  \n",
       "538554         0.0          NaN  United Kingdom  \n",
       "\n",
       "[1454 rows x 8 columns]"
      ]
     },
     "execution_count": 46,
     "metadata": {},
     "output_type": "execute_result"
    }
   ],
   "source": [
    "#let´s check null data in description column and customer_id:\n",
    "\n",
    "dataset[(dataset['description'].isnull()) & (dataset['customer_id'].isnull()) ]\n"
   ]
  },
  {
   "cell_type": "markdown",
   "metadata": {},
   "source": [
    "We have some option to deal with missing values. since we saw that description column has mixed values (string and float)\n",
    "we could also confirm that the floats values are NaN, so we could just make an imputation with 'unknow_item'.\n",
    "\n",
    "But we will see later that it doesn´t matter if we fulfill the descritpion column with unknow_item because the column also match with the NaN values in the customer_id, wich will be also dropped from the data."
   ]
  },
  {
   "cell_type": "markdown",
   "metadata": {},
   "source": [
    "We must drop customer_id rows without entries, because we cannot replace them with another value since our column is a random system-generated value. \n"
   ]
  },
  {
   "cell_type": "code",
   "execution_count": 47,
   "metadata": {},
   "outputs": [
    {
     "data": {
      "text/plain": [
       "invoice_no      0\n",
       "stock_code      0\n",
       "description     0\n",
       "quantity        0\n",
       "invoice_date    0\n",
       "unit_price      0\n",
       "customer_id     0\n",
       "country         0\n",
       "dtype: int64"
      ]
     },
     "execution_count": 47,
     "metadata": {},
     "output_type": "execute_result"
    }
   ],
   "source": [
    "dataset.dropna(axis=0, subset=['customer_id'], inplace=True)\n",
    "#check the data\n",
    "dataset.isnull().sum()"
   ]
  },
  {
   "cell_type": "markdown",
   "metadata": {},
   "source": [
    "Know we can see that description column doesn´t have the float type. :)\n"
   ]
  },
  {
   "cell_type": "code",
   "execution_count": 48,
   "metadata": {},
   "outputs": [
    {
     "data": {
      "text/plain": [
       "<class 'str'>    406829\n",
       "Name: description, dtype: int64"
      ]
     },
     "execution_count": 48,
     "metadata": {},
     "output_type": "execute_result"
    }
   ],
   "source": [
    "dataset.description.apply(type).value_counts()"
   ]
  },
  {
   "cell_type": "code",
   "execution_count": 49,
   "metadata": {},
   "outputs": [
    {
     "data": {
      "text/plain": [
       "(406829, 8)"
      ]
     },
     "execution_count": 49,
     "metadata": {},
     "output_type": "execute_result"
    }
   ],
   "source": [
    "dataset.shape"
   ]
  },
  {
   "cell_type": "markdown",
   "metadata": {},
   "source": [
    "After removing the missing values from the data, we are left with 406,829 rows"
   ]
  },
  {
   "cell_type": "markdown",
   "metadata": {},
   "source": [
    "##### checking data types"
   ]
  },
  {
   "cell_type": "markdown",
   "metadata": {},
   "source": [
    "Now that we have the missing values removed, we can change the customer_id type"
   ]
  },
  {
   "cell_type": "code",
   "execution_count": 50,
   "metadata": {
    "scrolled": true
   },
   "outputs": [
    {
     "name": "stdout",
     "output_type": "stream",
     "text": [
      "<class 'pandas.core.frame.DataFrame'>\n",
      "Int64Index: 406829 entries, 0 to 541908\n",
      "Data columns (total 8 columns):\n",
      " #   Column        Non-Null Count   Dtype         \n",
      "---  ------        --------------   -----         \n",
      " 0   invoice_no    406829 non-null  object        \n",
      " 1   stock_code    406829 non-null  object        \n",
      " 2   description   406829 non-null  object        \n",
      " 3   quantity      406829 non-null  int64         \n",
      " 4   invoice_date  406829 non-null  datetime64[ns]\n",
      " 5   unit_price    406829 non-null  float64       \n",
      " 6   customer_id   406829 non-null  object        \n",
      " 7   country       406829 non-null  object        \n",
      "dtypes: datetime64[ns](1), float64(1), int64(1), object(5)\n",
      "memory usage: 27.9+ MB\n"
     ]
    }
   ],
   "source": [
    "#changing customer_id and changing the usage memory:\n",
    "\n",
    "dataset['customer_id']=dataset['customer_id'].astype(str)\n",
    "dataset.info()\n"
   ]
  },
  {
   "cell_type": "markdown",
   "metadata": {},
   "source": [
    "##### checking for duplicates\n"
   ]
  },
  {
   "cell_type": "code",
   "execution_count": 51,
   "metadata": {},
   "outputs": [
    {
     "name": "stdout",
     "output_type": "stream",
     "text": [
      "total of duplicated rows in our dataset: 5225\n"
     ]
    }
   ],
   "source": [
    "#total of duplicated rows in our dataset\n",
    "\n",
    "print('total of duplicated rows in our dataset: {}'.format(dataset.duplicated().sum()))\n",
    " "
   ]
  },
  {
   "cell_type": "code",
   "execution_count": 52,
   "metadata": {},
   "outputs": [
    {
     "data": {
      "text/html": [
       "<div>\n",
       "<style scoped>\n",
       "    .dataframe tbody tr th:only-of-type {\n",
       "        vertical-align: middle;\n",
       "    }\n",
       "\n",
       "    .dataframe tbody tr th {\n",
       "        vertical-align: top;\n",
       "    }\n",
       "\n",
       "    .dataframe thead th {\n",
       "        text-align: right;\n",
       "    }\n",
       "</style>\n",
       "<table border=\"1\" class=\"dataframe\">\n",
       "  <thead>\n",
       "    <tr style=\"text-align: right;\">\n",
       "      <th></th>\n",
       "      <th>invoice_no</th>\n",
       "      <th>stock_code</th>\n",
       "      <th>description</th>\n",
       "      <th>quantity</th>\n",
       "      <th>invoice_date</th>\n",
       "      <th>unit_price</th>\n",
       "      <th>customer_id</th>\n",
       "      <th>country</th>\n",
       "    </tr>\n",
       "  </thead>\n",
       "  <tbody>\n",
       "    <tr>\n",
       "      <th>517</th>\n",
       "      <td>536409</td>\n",
       "      <td>21866</td>\n",
       "      <td>union jack flag luggage tag</td>\n",
       "      <td>1</td>\n",
       "      <td>2010-12-01 11:45:00</td>\n",
       "      <td>1.25</td>\n",
       "      <td>17908.0</td>\n",
       "      <td>United Kingdom</td>\n",
       "    </tr>\n",
       "    <tr>\n",
       "      <th>527</th>\n",
       "      <td>536409</td>\n",
       "      <td>22866</td>\n",
       "      <td>hand warmer scotty dog design</td>\n",
       "      <td>1</td>\n",
       "      <td>2010-12-01 11:45:00</td>\n",
       "      <td>2.10</td>\n",
       "      <td>17908.0</td>\n",
       "      <td>United Kingdom</td>\n",
       "    </tr>\n",
       "    <tr>\n",
       "      <th>537</th>\n",
       "      <td>536409</td>\n",
       "      <td>22900</td>\n",
       "      <td>set 2 tea towels i love london</td>\n",
       "      <td>1</td>\n",
       "      <td>2010-12-01 11:45:00</td>\n",
       "      <td>2.95</td>\n",
       "      <td>17908.0</td>\n",
       "      <td>United Kingdom</td>\n",
       "    </tr>\n",
       "    <tr>\n",
       "      <th>539</th>\n",
       "      <td>536409</td>\n",
       "      <td>22111</td>\n",
       "      <td>scottie dog hot water bottle</td>\n",
       "      <td>1</td>\n",
       "      <td>2010-12-01 11:45:00</td>\n",
       "      <td>4.95</td>\n",
       "      <td>17908.0</td>\n",
       "      <td>United Kingdom</td>\n",
       "    </tr>\n",
       "    <tr>\n",
       "      <th>555</th>\n",
       "      <td>536412</td>\n",
       "      <td>22327</td>\n",
       "      <td>round snack boxes set of 4 skulls</td>\n",
       "      <td>1</td>\n",
       "      <td>2010-12-01 11:49:00</td>\n",
       "      <td>2.95</td>\n",
       "      <td>17920.0</td>\n",
       "      <td>United Kingdom</td>\n",
       "    </tr>\n",
       "    <tr>\n",
       "      <th>...</th>\n",
       "      <td>...</td>\n",
       "      <td>...</td>\n",
       "      <td>...</td>\n",
       "      <td>...</td>\n",
       "      <td>...</td>\n",
       "      <td>...</td>\n",
       "      <td>...</td>\n",
       "      <td>...</td>\n",
       "    </tr>\n",
       "    <tr>\n",
       "      <th>541675</th>\n",
       "      <td>581538</td>\n",
       "      <td>22068</td>\n",
       "      <td>black pirate treasure chest</td>\n",
       "      <td>1</td>\n",
       "      <td>2011-12-09 11:34:00</td>\n",
       "      <td>0.39</td>\n",
       "      <td>14446.0</td>\n",
       "      <td>United Kingdom</td>\n",
       "    </tr>\n",
       "    <tr>\n",
       "      <th>541689</th>\n",
       "      <td>581538</td>\n",
       "      <td>23318</td>\n",
       "      <td>box of 6 mini vintage crackers</td>\n",
       "      <td>1</td>\n",
       "      <td>2011-12-09 11:34:00</td>\n",
       "      <td>2.49</td>\n",
       "      <td>14446.0</td>\n",
       "      <td>United Kingdom</td>\n",
       "    </tr>\n",
       "    <tr>\n",
       "      <th>541692</th>\n",
       "      <td>581538</td>\n",
       "      <td>22992</td>\n",
       "      <td>revolver wooden ruler</td>\n",
       "      <td>1</td>\n",
       "      <td>2011-12-09 11:34:00</td>\n",
       "      <td>1.95</td>\n",
       "      <td>14446.0</td>\n",
       "      <td>United Kingdom</td>\n",
       "    </tr>\n",
       "    <tr>\n",
       "      <th>541699</th>\n",
       "      <td>581538</td>\n",
       "      <td>22694</td>\n",
       "      <td>wicker star</td>\n",
       "      <td>1</td>\n",
       "      <td>2011-12-09 11:34:00</td>\n",
       "      <td>2.10</td>\n",
       "      <td>14446.0</td>\n",
       "      <td>United Kingdom</td>\n",
       "    </tr>\n",
       "    <tr>\n",
       "      <th>541701</th>\n",
       "      <td>581538</td>\n",
       "      <td>23343</td>\n",
       "      <td>jumbo bag vintage christmas</td>\n",
       "      <td>1</td>\n",
       "      <td>2011-12-09 11:34:00</td>\n",
       "      <td>2.08</td>\n",
       "      <td>14446.0</td>\n",
       "      <td>United Kingdom</td>\n",
       "    </tr>\n",
       "  </tbody>\n",
       "</table>\n",
       "<p>5225 rows × 8 columns</p>\n",
       "</div>"
      ],
      "text/plain": [
       "       invoice_no stock_code                        description  quantity  \\\n",
       "517        536409      21866        union jack flag luggage tag         1   \n",
       "527        536409      22866      hand warmer scotty dog design         1   \n",
       "537        536409      22900    set 2 tea towels i love london          1   \n",
       "539        536409      22111       scottie dog hot water bottle         1   \n",
       "555        536412      22327  round snack boxes set of 4 skulls         1   \n",
       "...           ...        ...                                ...       ...   \n",
       "541675     581538      22068        black pirate treasure chest         1   \n",
       "541689     581538      23318     box of 6 mini vintage crackers         1   \n",
       "541692     581538      22992             revolver wooden ruler          1   \n",
       "541699     581538      22694                       wicker star          1   \n",
       "541701     581538      23343       jumbo bag vintage christmas          1   \n",
       "\n",
       "              invoice_date  unit_price customer_id         country  \n",
       "517    2010-12-01 11:45:00        1.25     17908.0  United Kingdom  \n",
       "527    2010-12-01 11:45:00        2.10     17908.0  United Kingdom  \n",
       "537    2010-12-01 11:45:00        2.95     17908.0  United Kingdom  \n",
       "539    2010-12-01 11:45:00        4.95     17908.0  United Kingdom  \n",
       "555    2010-12-01 11:49:00        2.95     17920.0  United Kingdom  \n",
       "...                    ...         ...         ...             ...  \n",
       "541675 2011-12-09 11:34:00        0.39     14446.0  United Kingdom  \n",
       "541689 2011-12-09 11:34:00        2.49     14446.0  United Kingdom  \n",
       "541692 2011-12-09 11:34:00        1.95     14446.0  United Kingdom  \n",
       "541699 2011-12-09 11:34:00        2.10     14446.0  United Kingdom  \n",
       "541701 2011-12-09 11:34:00        2.08     14446.0  United Kingdom  \n",
       "\n",
       "[5225 rows x 8 columns]"
      ]
     },
     "execution_count": 52,
     "metadata": {},
     "output_type": "execute_result"
    }
   ],
   "source": [
    "#checking where the Duplicated rows are:\n",
    "dataset[dataset.duplicated()]"
   ]
  },
  {
   "cell_type": "code",
   "execution_count": 53,
   "metadata": {
    "scrolled": false
   },
   "outputs": [],
   "source": [
    "#dropping ALL duplicte values \n",
    "dataset.drop_duplicates(keep = False, inplace=True) \n"
   ]
  },
  {
   "cell_type": "code",
   "execution_count": 54,
   "metadata": {
    "scrolled": true
   },
   "outputs": [
    {
     "data": {
      "text/plain": [
       "(396767, 8)"
      ]
     },
     "execution_count": 54,
     "metadata": {},
     "output_type": "execute_result"
    }
   ],
   "source": [
    "dataset.shape"
   ]
  },
  {
   "cell_type": "code",
   "execution_count": 55,
   "metadata": {},
   "outputs": [
    {
     "name": "stdout",
     "output_type": "stream",
     "text": [
      "<class 'pandas.core.frame.DataFrame'>\n",
      "Int64Index: 396767 entries, 0 to 541908\n",
      "Data columns (total 8 columns):\n",
      " #   Column        Non-Null Count   Dtype         \n",
      "---  ------        --------------   -----         \n",
      " 0   invoice_no    396767 non-null  object        \n",
      " 1   stock_code    396767 non-null  object        \n",
      " 2   description   396767 non-null  object        \n",
      " 3   quantity      396767 non-null  int64         \n",
      " 4   invoice_date  396767 non-null  datetime64[ns]\n",
      " 5   unit_price    396767 non-null  float64       \n",
      " 6   customer_id   396767 non-null  object        \n",
      " 7   country       396767 non-null  object        \n",
      "dtypes: datetime64[ns](1), float64(1), int64(1), object(5)\n",
      "memory usage: 27.2+ MB\n"
     ]
    }
   ],
   "source": [
    "dataset.info()"
   ]
  },
  {
   "cell_type": "markdown",
   "metadata": {},
   "source": [
    "# Searching for Outliers"
   ]
  },
  {
   "cell_type": "markdown",
   "metadata": {},
   "source": [
    "#### Let's get start with Descriptive statistics"
   ]
  },
  {
   "cell_type": "markdown",
   "metadata": {},
   "source": [
    "##### A. Summary data of numeric variables:"
   ]
  },
  {
   "cell_type": "code",
   "execution_count": 57,
   "metadata": {
    "scrolled": true
   },
   "outputs": [
    {
     "data": {
      "text/html": [
       "<div>\n",
       "<style scoped>\n",
       "    .dataframe tbody tr th:only-of-type {\n",
       "        vertical-align: middle;\n",
       "    }\n",
       "\n",
       "    .dataframe tbody tr th {\n",
       "        vertical-align: top;\n",
       "    }\n",
       "\n",
       "    .dataframe thead th {\n",
       "        text-align: right;\n",
       "    }\n",
       "</style>\n",
       "<table border=\"1\" class=\"dataframe\">\n",
       "  <thead>\n",
       "    <tr style=\"text-align: right;\">\n",
       "      <th></th>\n",
       "      <th>quantity</th>\n",
       "      <th>unit_price</th>\n",
       "    </tr>\n",
       "  </thead>\n",
       "  <tbody>\n",
       "    <tr>\n",
       "      <th>count</th>\n",
       "      <td>396767.00</td>\n",
       "      <td>396767.00</td>\n",
       "    </tr>\n",
       "    <tr>\n",
       "      <th>mean</th>\n",
       "      <td>12.30</td>\n",
       "      <td>3.49</td>\n",
       "    </tr>\n",
       "    <tr>\n",
       "      <th>std</th>\n",
       "      <td>251.78</td>\n",
       "      <td>70.19</td>\n",
       "    </tr>\n",
       "    <tr>\n",
       "      <th>min</th>\n",
       "      <td>-80995.00</td>\n",
       "      <td>0.00</td>\n",
       "    </tr>\n",
       "    <tr>\n",
       "      <th>25%</th>\n",
       "      <td>2.00</td>\n",
       "      <td>1.25</td>\n",
       "    </tr>\n",
       "    <tr>\n",
       "      <th>50%</th>\n",
       "      <td>5.00</td>\n",
       "      <td>1.95</td>\n",
       "    </tr>\n",
       "    <tr>\n",
       "      <th>75%</th>\n",
       "      <td>12.00</td>\n",
       "      <td>3.75</td>\n",
       "    </tr>\n",
       "    <tr>\n",
       "      <th>max</th>\n",
       "      <td>80995.00</td>\n",
       "      <td>38970.00</td>\n",
       "    </tr>\n",
       "  </tbody>\n",
       "</table>\n",
       "</div>"
      ],
      "text/plain": [
       "        quantity  unit_price\n",
       "count  396767.00   396767.00\n",
       "mean       12.30        3.49\n",
       "std       251.78       70.19\n",
       "min    -80995.00        0.00\n",
       "25%         2.00        1.25\n",
       "50%         5.00        1.95\n",
       "75%        12.00        3.75\n",
       "max     80995.00    38970.00"
      ]
     },
     "execution_count": 57,
     "metadata": {},
     "output_type": "execute_result"
    }
   ],
   "source": [
    "dataset.describe().round(2)"
   ]
  },
  {
   "cell_type": "markdown",
   "metadata": {},
   "source": [
    "Questions:\n",
    "You may be asking:\n",
    "\n",
    "1. why invoice_no is not considered a numeric data as it is a column with numbers?. \n",
    "2. Why quantity column has negative values?; \n",
    "3. what about unit_price. how and why the minimum value is 0? \n",
    "\n",
    "Let´s take a look at those features one by one:\n"
   ]
  },
  {
   "cell_type": "markdown",
   "metadata": {},
   "source": [
    "###### 1. Invoice_no column"
   ]
  },
  {
   "cell_type": "code",
   "execution_count": 58,
   "metadata": {
    "scrolled": false
   },
   "outputs": [
    {
     "data": {
      "text/html": [
       "<div>\n",
       "<style scoped>\n",
       "    .dataframe tbody tr th:only-of-type {\n",
       "        vertical-align: middle;\n",
       "    }\n",
       "\n",
       "    .dataframe tbody tr th {\n",
       "        vertical-align: top;\n",
       "    }\n",
       "\n",
       "    .dataframe thead th {\n",
       "        text-align: right;\n",
       "    }\n",
       "</style>\n",
       "<table border=\"1\" class=\"dataframe\">\n",
       "  <thead>\n",
       "    <tr style=\"text-align: right;\">\n",
       "      <th></th>\n",
       "      <th>invoice_no</th>\n",
       "    </tr>\n",
       "  </thead>\n",
       "  <tbody>\n",
       "    <tr>\n",
       "      <th>576339</th>\n",
       "      <td>542</td>\n",
       "    </tr>\n",
       "    <tr>\n",
       "      <th>579196</th>\n",
       "      <td>533</td>\n",
       "    </tr>\n",
       "    <tr>\n",
       "      <th>580727</th>\n",
       "      <td>529</td>\n",
       "    </tr>\n",
       "    <tr>\n",
       "      <th>578270</th>\n",
       "      <td>442</td>\n",
       "    </tr>\n",
       "    <tr>\n",
       "      <th>573576</th>\n",
       "      <td>435</td>\n",
       "    </tr>\n",
       "    <tr>\n",
       "      <th>...</th>\n",
       "      <td>...</td>\n",
       "    </tr>\n",
       "    <tr>\n",
       "      <th>C562367</th>\n",
       "      <td>1</td>\n",
       "    </tr>\n",
       "    <tr>\n",
       "      <th>C537677</th>\n",
       "      <td>1</td>\n",
       "    </tr>\n",
       "    <tr>\n",
       "      <th>538501</th>\n",
       "      <td>1</td>\n",
       "    </tr>\n",
       "    <tr>\n",
       "      <th>C554001</th>\n",
       "      <td>1</td>\n",
       "    </tr>\n",
       "    <tr>\n",
       "      <th>C579906</th>\n",
       "      <td>1</td>\n",
       "    </tr>\n",
       "  </tbody>\n",
       "</table>\n",
       "<p>22185 rows × 1 columns</p>\n",
       "</div>"
      ],
      "text/plain": [
       "         invoice_no\n",
       "576339          542\n",
       "579196          533\n",
       "580727          529\n",
       "578270          442\n",
       "573576          435\n",
       "...             ...\n",
       "C562367           1\n",
       "C537677           1\n",
       "538501            1\n",
       "C554001           1\n",
       "C579906           1\n",
       "\n",
       "[22185 rows x 1 columns]"
      ]
     },
     "execution_count": 58,
     "metadata": {},
     "output_type": "execute_result"
    }
   ],
   "source": [
    "dataset['invoice_no'].value_counts().to_frame()"
   ]
  },
  {
   "cell_type": "markdown",
   "metadata": {},
   "source": [
    "This doesn’t convey much information as the output contains 22190 categories for every value of Invoice_no.\n",
    "Instead, let’s use another method"
   ]
  },
  {
   "cell_type": "markdown",
   "metadata": {},
   "source": [
    "the column has text (starting by letter C) corresponding to 8905 rows, and numbers that correspond to 396767, as shown bellow. how can we explain this?"
   ]
  },
  {
   "cell_type": "code",
   "execution_count": 32,
   "metadata": {
    "scrolled": false
   },
   "outputs": [
    {
     "name": "stdout",
     "output_type": "stream",
     "text": [
      "\n",
      "Entries that start with letter C:\n",
      "\n",
      "\n",
      "False    397924\n",
      "True       8905\n",
      "Name: invoice_no, dtype: int64\n"
     ]
    }
   ],
   "source": [
    "invoice_no_startswith_c=dataset['invoice_no'].str.startswith('C').value_counts()\n",
    "print('\\nEntries that start with letter C:')\n",
    "print('\\n')\n",
    "print(invoice_no_startswith_c)"
   ]
  },
  {
   "cell_type": "code",
   "execution_count": 122,
   "metadata": {},
   "outputs": [
    {
     "name": "stdout",
     "output_type": "stream",
     "text": [
      "\n",
      "Entries that start with letter C:\n",
      "\n",
      "\n"
     ]
    },
    {
     "data": {
      "text/plain": [
       "True     387923\n",
       "False      8844\n",
       "dtype: int64"
      ]
     },
     "execution_count": 122,
     "metadata": {},
     "output_type": "execute_result"
    }
   ],
   "source": [
    "\"\"\"Numeric values present in invoice_no column?\"\"\"\n",
    "#checking whether we have numeric values present in a given column of a DataFrame:\n",
    "\n",
    "print('\\nEntries that start with letter C:')\n",
    "print('\\n')\n",
    "pd.DataFrame(list(map(lambda x: x.isdigit(), dataset['invoice_no']))).value_counts()"
   ]
  },
  {
   "cell_type": "markdown",
   "metadata": {},
   "source": [
    "Those negative values on quantity column seems that it corresponds to each invoice_no that has been cancelled. we can verified this defining a command to grab only the negative values. as a result it return us, a dataframe where the invoice_no started by letter C. (Eg. C543611)"
   ]
  },
  {
   "cell_type": "code",
   "execution_count": 60,
   "metadata": {
    "scrolled": false
   },
   "outputs": [
    {
     "data": {
      "text/html": [
       "<div>\n",
       "<style scoped>\n",
       "    .dataframe tbody tr th:only-of-type {\n",
       "        vertical-align: middle;\n",
       "    }\n",
       "\n",
       "    .dataframe tbody tr th {\n",
       "        vertical-align: top;\n",
       "    }\n",
       "\n",
       "    .dataframe thead th {\n",
       "        text-align: right;\n",
       "    }\n",
       "</style>\n",
       "<table border=\"1\" class=\"dataframe\">\n",
       "  <thead>\n",
       "    <tr style=\"text-align: right;\">\n",
       "      <th></th>\n",
       "      <th></th>\n",
       "      <th></th>\n",
       "      <th></th>\n",
       "      <th></th>\n",
       "      <th></th>\n",
       "      <th></th>\n",
       "      <th></th>\n",
       "      <th>0</th>\n",
       "    </tr>\n",
       "    <tr>\n",
       "      <th>invoice_no</th>\n",
       "      <th>stock_code</th>\n",
       "      <th>description</th>\n",
       "      <th>quantity</th>\n",
       "      <th>invoice_date</th>\n",
       "      <th>unit_price</th>\n",
       "      <th>customer_id</th>\n",
       "      <th>country</th>\n",
       "      <th></th>\n",
       "    </tr>\n",
       "  </thead>\n",
       "  <tbody>\n",
       "    <tr>\n",
       "      <th>C581569</th>\n",
       "      <th>84978</th>\n",
       "      <th>hanging heart jar t-light holder</th>\n",
       "      <th>-1</th>\n",
       "      <th>2011-12-09 11:58:00</th>\n",
       "      <th>1.25</th>\n",
       "      <th>17315.0</th>\n",
       "      <th>United Kingdom</th>\n",
       "      <td>1</td>\n",
       "    </tr>\n",
       "    <tr>\n",
       "      <th>C551348</th>\n",
       "      <th>22990</th>\n",
       "      <th>cotton apron pantry design</th>\n",
       "      <th>-100</th>\n",
       "      <th>2011-04-28 09:49:00</th>\n",
       "      <th>4.25</th>\n",
       "      <th>12415.0</th>\n",
       "      <th>Australia</th>\n",
       "      <td>1</td>\n",
       "    </tr>\n",
       "    <tr>\n",
       "      <th>C551464</th>\n",
       "      <th>22147</th>\n",
       "      <th>feltcraft butterfly hearts</th>\n",
       "      <th>-12</th>\n",
       "      <th>2011-04-28 16:15:00</th>\n",
       "      <th>1.45</th>\n",
       "      <th>13085.0</th>\n",
       "      <th>United Kingdom</th>\n",
       "      <td>1</td>\n",
       "    </tr>\n",
       "    <tr>\n",
       "      <th rowspan=\"2\" valign=\"top\">C551463</th>\n",
       "      <th>23152</th>\n",
       "      <th>ivory sweetheart wire letter rack</th>\n",
       "      <th>-2</th>\n",
       "      <th>2011-04-28 16:13:00</th>\n",
       "      <th>3.75</th>\n",
       "      <th>13534.0</th>\n",
       "      <th>United Kingdom</th>\n",
       "      <td>1</td>\n",
       "    </tr>\n",
       "    <tr>\n",
       "      <th>23142</th>\n",
       "      <th>ivory wire kitchen organiser</th>\n",
       "      <th>-1</th>\n",
       "      <th>2011-04-28 16:13:00</th>\n",
       "      <th>10.40</th>\n",
       "      <th>13534.0</th>\n",
       "      <th>United Kingdom</th>\n",
       "      <td>1</td>\n",
       "    </tr>\n",
       "    <tr>\n",
       "      <th>...</th>\n",
       "      <th>...</th>\n",
       "      <th>...</th>\n",
       "      <th>...</th>\n",
       "      <th>...</th>\n",
       "      <th>...</th>\n",
       "      <th>...</th>\n",
       "      <th>...</th>\n",
       "      <td>...</td>\n",
       "    </tr>\n",
       "    <tr>\n",
       "      <th>C567348</th>\n",
       "      <th>85123A</th>\n",
       "      <th>white hanging heart t-light holder</th>\n",
       "      <th>-1</th>\n",
       "      <th>2011-09-19 15:57:00</th>\n",
       "      <th>2.95</th>\n",
       "      <th>15755.0</th>\n",
       "      <th>United Kingdom</th>\n",
       "      <td>1</td>\n",
       "    </tr>\n",
       "    <tr>\n",
       "      <th>C567349</th>\n",
       "      <th>23110</th>\n",
       "      <th>parisienne key cabinet</th>\n",
       "      <th>-1</th>\n",
       "      <th>2011-09-19 16:01:00</th>\n",
       "      <th>5.75</th>\n",
       "      <th>13375.0</th>\n",
       "      <th>United Kingdom</th>\n",
       "      <td>1</td>\n",
       "    </tr>\n",
       "    <tr>\n",
       "      <th>C567350</th>\n",
       "      <th>23169</th>\n",
       "      <th>classic glass cookie jar</th>\n",
       "      <th>-4</th>\n",
       "      <th>2011-09-19 16:02:00</th>\n",
       "      <th>4.15</th>\n",
       "      <th>17677.0</th>\n",
       "      <th>United Kingdom</th>\n",
       "      <td>1</td>\n",
       "    </tr>\n",
       "    <tr>\n",
       "      <th>C567351</th>\n",
       "      <th>22941</th>\n",
       "      <th>christmas lights 10 reindeer</th>\n",
       "      <th>-2</th>\n",
       "      <th>2011-09-19 16:05:00</th>\n",
       "      <th>7.65</th>\n",
       "      <th>15251.0</th>\n",
       "      <th>United Kingdom</th>\n",
       "      <td>1</td>\n",
       "    </tr>\n",
       "    <tr>\n",
       "      <th>C536379</th>\n",
       "      <th>D</th>\n",
       "      <th>discount</th>\n",
       "      <th>-1</th>\n",
       "      <th>2010-12-01 09:41:00</th>\n",
       "      <th>27.50</th>\n",
       "      <th>14527.0</th>\n",
       "      <th>United Kingdom</th>\n",
       "      <td>1</td>\n",
       "    </tr>\n",
       "  </tbody>\n",
       "</table>\n",
       "<p>8844 rows × 1 columns</p>\n",
       "</div>"
      ],
      "text/plain": [
       "                                                                                                                             0\n",
       "invoice_no stock_code description                        quantity invoice_date        unit_price customer_id country          \n",
       "C581569    84978      hanging heart jar t-light holder   -1       2011-12-09 11:58:00 1.25       17315.0     United Kingdom  1\n",
       "C551348    22990      cotton apron pantry design         -100     2011-04-28 09:49:00 4.25       12415.0     Australia       1\n",
       "C551464    22147      feltcraft butterfly hearts         -12      2011-04-28 16:15:00 1.45       13085.0     United Kingdom  1\n",
       "C551463    23152      ivory sweetheart wire letter rack  -2       2011-04-28 16:13:00 3.75       13534.0     United Kingdom  1\n",
       "           23142      ivory wire kitchen organiser       -1       2011-04-28 16:13:00 10.40      13534.0     United Kingdom  1\n",
       "...                                                                                                                         ..\n",
       "C567348    85123A     white hanging heart t-light holder -1       2011-09-19 15:57:00 2.95       15755.0     United Kingdom  1\n",
       "C567349    23110      parisienne key cabinet             -1       2011-09-19 16:01:00 5.75       13375.0     United Kingdom  1\n",
       "C567350    23169      classic glass cookie jar           -4       2011-09-19 16:02:00 4.15       17677.0     United Kingdom  1\n",
       "C567351    22941      christmas lights 10 reindeer       -2       2011-09-19 16:05:00 7.65       15251.0     United Kingdom  1\n",
       "C536379    D          discount                           -1       2010-12-01 09:41:00 27.50      14527.0     United Kingdom  1\n",
       "\n",
       "[8844 rows x 1 columns]"
      ]
     },
     "execution_count": 60,
     "metadata": {},
     "output_type": "execute_result"
    }
   ],
   "source": [
    "#negative values:\n",
    "negative=dataset[dataset['quantity'] < 0]\n",
    "pd.DataFrame(negative.value_counts())"
   ]
  },
  {
   "cell_type": "markdown",
   "metadata": {},
   "source": [
    "##### B. Graphical visualization of numeric data"
   ]
  },
  {
   "cell_type": "code",
   "execution_count": 62,
   "metadata": {
    "scrolled": false
   },
   "outputs": [
    {
     "data": {
      "text/plain": [
       "<AxesSubplot:xlabel='quantity'>"
      ]
     },
     "execution_count": 62,
     "metadata": {},
     "output_type": "execute_result"
    },
    {
     "data": {
      "image/png": "[encoded data removed]",
      "text/plain": [
       "<Figure size 432x288 with 1 Axes>"
      ]
     },
     "metadata": {
      "needs_background": "light"
     },
     "output_type": "display_data"
    }
   ],
   "source": [
    "#This can be checked by plotting a graph and examining if we are close to a normal spread.\n",
    "sns.distplot(dataset['quantity'], bins=10, kde=False)"
   ]
  },
  {
   "cell_type": "code",
   "execution_count": 109,
   "metadata": {},
   "outputs": [
    {
     "data": {
      "text/plain": [
       "<AxesSubplot:xlabel='unit_price'>"
      ]
     },
     "execution_count": 109,
     "metadata": {},
     "output_type": "execute_result"
    },
    {
     "data": {
      "image/png": "[encoded data removed]",
      "text/plain": [
       "<Figure size 432x288 with 1 Axes>"
      ]
     },
     "metadata": {
      "needs_background": "light"
     },
     "output_type": "display_data"
    }
   ],
   "source": [
    "sns.distplot(dataset['unit_price'], bins=10, kde=False)"
   ]
  },
  {
   "cell_type": "markdown",
   "metadata": {},
   "source": [
    "all the quantity data is centered in the middle. If we look at the Max and Min value, we see that the maximum value is 80995 and the minimun is -80995 ,"
   ]
  },
  {
   "cell_type": "markdown",
   "metadata": {},
   "source": [
    "Observations to the table above:\n",
    "   \n",
    "Therefore, we observe that out of the 397,924 rows,Interquantile range analysis tells us that most of the values lie between 2 and 12 and values greater than 12 introduces us to Outliers. to know more about outliers we have to Get relevant percentiles and see their distribution.   "
   ]
  },
  {
   "cell_type": "code",
   "execution_count": 63,
   "metadata": {},
   "outputs": [
    {
     "name": "stdout",
     "output_type": "stream",
     "text": [
      "25th Percentile: 2.0\n",
      "75th Percentile: 12.0\n",
      "Interquartile Range: 10.0\n",
      "Lower fence value: -13.0\n",
      "Upper fence value: 27.0\n"
     ]
    }
   ],
   "source": [
    "\"\"\"to find the outliers of the quantity column using the IQR method, we have to define \n",
    "a multiplier which is 1.5 ideally that will decide how far below Q1 and above Q3 will be considered as an Outlier.:\"\"\"\n",
    "#Q1 is the first quartile (25th percentile) and Q3 is the third quartile(75th percentile).\n",
    "\n",
    "#Step 1: Find the 25th percentile (Q1), the 75th percentile (Q3)\n",
    "Q1 = dataset[\"quantity\"].quantile(0.25)\n",
    "Q3 = dataset[\"quantity\"].quantile(0.75)\n",
    "\n",
    "\n",
    "#step 2: Find the interquartile range.\n",
    "IQR = Q3 - Q1\n",
    "\n",
    "print('25th Percentile:', Q1)\n",
    "print('75th Percentile:', Q3)\n",
    "print('Interquartile Range:', IQR) \n",
    "\n",
    "\n",
    "#Step 3: Insert the values from Step 1 into the formulas and solve:\n",
    "Lower_Fence = Q1 - (1.5 * IQR)\n",
    "Upper_Fence = Q3 + (1.5 * IQR)\n",
    "\n",
    "print('Lower fence value:', Lower_Fence)\n",
    "print('Upper fence value:', Upper_Fence)\n",
    "\n"
   ]
  },
  {
   "cell_type": "markdown",
   "metadata": {},
   "source": [
    "Any value below Q1-1.5*IQR or above Q3+1.5*IQR is an Outlier"
   ]
  },
  {
   "cell_type": "code",
   "execution_count": 112,
   "metadata": {
    "scrolled": true
   },
   "outputs": [
    {
     "data": {
      "text/plain": [
       "<AxesSubplot:>"
      ]
     },
     "execution_count": 112,
     "metadata": {},
     "output_type": "execute_result"
    },
    {
     "data": {
      "image/png": "[encoded data removed]",
      "text/plain": [
       "<Figure size 432x288 with 1 Axes>"
      ]
     },
     "metadata": {
      "needs_background": "light"
     },
     "output_type": "display_data"
    }
   ],
   "source": [
    "\"\"\"Now we find the upper fence and lower fence,  by adding the following code we can\n",
    "plot all the data above the upper fence and below the lower fence. Add the following code to do this:\"\"\"\n",
    "\n",
    "#To print all the data below the lower fence or above the upper fence, we add the following code:\n",
    "data1=dataset[((dataset[\"quantity\"] < Lower_Fence) |(dataset[\"quantity\"] > Upper_Fence))]\n",
    "\n",
    "#Plot the upper and lower fences on a box plot. Not necessarily statistically, but it makes outliers easier to spot\n",
    "data1.plot.box()"
   ]
  },
  {
   "cell_type": "code",
   "execution_count": 113,
   "metadata": {
    "scrolled": false
   },
   "outputs": [
    {
     "data": {
      "text/plain": [
       "<AxesSubplot:>"
      ]
     },
     "execution_count": 113,
     "metadata": {},
     "output_type": "execute_result"
    },
    {
     "data": {
      "image/png": "[encoded data removed]",
      "text/plain": [
       "<Figure size 432x288 with 1 Axes>"
      ]
     },
     "metadata": {
      "needs_background": "light"
     },
     "output_type": "display_data"
    }
   ],
   "source": [
    "\"\"\"Filter out the outlier data and print only the potential data. To do so,\n",
    "just negate the preceding result using the ~ operator:\"\"\"\n",
    "\n",
    "data=dataset[~((dataset[\"quantity\"] < Lower_Fence) |(dataset[\"quantity\"] > Upper_Fence))].copy()\n",
    "data.plot.box()"
   ]
  },
  {
   "cell_type": "code",
   "execution_count": 114,
   "metadata": {},
   "outputs": [
    {
     "data": {
      "text/html": [
       "<div>\n",
       "<style scoped>\n",
       "    .dataframe tbody tr th:only-of-type {\n",
       "        vertical-align: middle;\n",
       "    }\n",
       "\n",
       "    .dataframe tbody tr th {\n",
       "        vertical-align: top;\n",
       "    }\n",
       "\n",
       "    .dataframe thead th {\n",
       "        text-align: right;\n",
       "    }\n",
       "</style>\n",
       "<table border=\"1\" class=\"dataframe\">\n",
       "  <thead>\n",
       "    <tr style=\"text-align: right;\">\n",
       "      <th></th>\n",
       "      <th>quantity</th>\n",
       "      <th>unit_price</th>\n",
       "    </tr>\n",
       "  </thead>\n",
       "  <tbody>\n",
       "    <tr>\n",
       "      <th>count</th>\n",
       "      <td>370153.000000</td>\n",
       "      <td>370153.000000</td>\n",
       "    </tr>\n",
       "    <tr>\n",
       "      <th>mean</th>\n",
       "      <td>6.938758</td>\n",
       "      <td>3.629776</td>\n",
       "    </tr>\n",
       "    <tr>\n",
       "      <th>std</th>\n",
       "      <td>6.787860</td>\n",
       "      <td>72.655912</td>\n",
       "    </tr>\n",
       "    <tr>\n",
       "      <th>min</th>\n",
       "      <td>-13.000000</td>\n",
       "      <td>0.000000</td>\n",
       "    </tr>\n",
       "    <tr>\n",
       "      <th>25%</th>\n",
       "      <td>2.000000</td>\n",
       "      <td>1.250000</td>\n",
       "    </tr>\n",
       "    <tr>\n",
       "      <th>50%</th>\n",
       "      <td>4.000000</td>\n",
       "      <td>1.950000</td>\n",
       "    </tr>\n",
       "    <tr>\n",
       "      <th>75%</th>\n",
       "      <td>12.000000</td>\n",
       "      <td>3.750000</td>\n",
       "    </tr>\n",
       "    <tr>\n",
       "      <th>max</th>\n",
       "      <td>27.000000</td>\n",
       "      <td>38970.000000</td>\n",
       "    </tr>\n",
       "  </tbody>\n",
       "</table>\n",
       "</div>"
      ],
      "text/plain": [
       "            quantity     unit_price\n",
       "count  370153.000000  370153.000000\n",
       "mean        6.938758       3.629776\n",
       "std         6.787860      72.655912\n",
       "min       -13.000000       0.000000\n",
       "25%         2.000000       1.250000\n",
       "50%         4.000000       1.950000\n",
       "75%        12.000000       3.750000\n",
       "max        27.000000   38970.000000"
      ]
     },
     "execution_count": 114,
     "metadata": {},
     "output_type": "execute_result"
    }
   ],
   "source": [
    "data.describe()"
   ]
  },
  {
   "cell_type": "code",
   "execution_count": 115,
   "metadata": {
    "scrolled": true
   },
   "outputs": [
    {
     "data": {
      "text/html": [
       "<div>\n",
       "<style scoped>\n",
       "    .dataframe tbody tr th:only-of-type {\n",
       "        vertical-align: middle;\n",
       "    }\n",
       "\n",
       "    .dataframe tbody tr th {\n",
       "        vertical-align: top;\n",
       "    }\n",
       "\n",
       "    .dataframe thead th {\n",
       "        text-align: right;\n",
       "    }\n",
       "</style>\n",
       "<table border=\"1\" class=\"dataframe\">\n",
       "  <thead>\n",
       "    <tr style=\"text-align: right;\">\n",
       "      <th></th>\n",
       "      <th>invoice_no</th>\n",
       "      <th>stock_code</th>\n",
       "      <th>description</th>\n",
       "      <th>quantity</th>\n",
       "      <th>invoice_date</th>\n",
       "      <th>unit_price</th>\n",
       "      <th>customer_id</th>\n",
       "      <th>country</th>\n",
       "    </tr>\n",
       "  </thead>\n",
       "  <tbody>\n",
       "    <tr>\n",
       "      <th>222681</th>\n",
       "      <td>C556445</td>\n",
       "      <td>M</td>\n",
       "      <td>manual</td>\n",
       "      <td>-1</td>\n",
       "      <td>2011-06-10 15:31:00</td>\n",
       "      <td>38970.0</td>\n",
       "      <td>15098.0</td>\n",
       "      <td>United Kingdom</td>\n",
       "    </tr>\n",
       "  </tbody>\n",
       "</table>\n",
       "</div>"
      ],
      "text/plain": [
       "       invoice_no stock_code description  quantity        invoice_date  \\\n",
       "222681    C556445          M      manual        -1 2011-06-10 15:31:00   \n",
       "\n",
       "        unit_price customer_id         country  \n",
       "222681     38970.0     15098.0  United Kingdom  "
      ]
     },
     "execution_count": 115,
     "metadata": {},
     "output_type": "execute_result"
    }
   ],
   "source": [
    "#find outlier int unit_price column.\n",
    "data[data['unit_price']>=10000]"
   ]
  },
  {
   "cell_type": "code",
   "execution_count": 116,
   "metadata": {},
   "outputs": [],
   "source": [
    "#delete outlier\n",
    "data.drop([222681], inplace=True)"
   ]
  },
  {
   "cell_type": "code",
   "execution_count": 117,
   "metadata": {},
   "outputs": [
    {
     "data": {
      "text/plain": [
       "<AxesSubplot:>"
      ]
     },
     "execution_count": 117,
     "metadata": {},
     "output_type": "execute_result"
    },
    {
     "data": {
      "image/png": "[encoded data removed]",
      "text/plain": [
       "<Figure size 432x288 with 1 Axes>"
      ]
     },
     "metadata": {
      "needs_background": "light"
     },
     "output_type": "display_data"
    }
   ],
   "source": [
    "data.plot.box()"
   ]
  },
  {
   "cell_type": "code",
   "execution_count": 119,
   "metadata": {},
   "outputs": [
    {
     "data": {
      "text/plain": [
       "(370152, 8)"
      ]
     },
     "execution_count": 119,
     "metadata": {},
     "output_type": "execute_result"
    }
   ],
   "source": [
    "final=data.copy()\n",
    "final.shape"
   ]
  },
  {
   "cell_type": "markdown",
   "metadata": {},
   "source": [
    "### saving the result of cleaning data process"
   ]
  },
  {
   "cell_type": "code",
   "execution_count": 120,
   "metadata": {},
   "outputs": [],
   "source": [
    "final.to_csv('./Final_ecommerce.csv', index = False, header=True)"
   ]
  },
  {
   "cell_type": "markdown",
   "metadata": {},
   "source": [
    "# Exploratory data analysis FINAL - Part 2"
   ]
  },
  {
   "cell_type": "markdown",
   "metadata": {},
   "source": [
    "##### LET´S MAKE SOME QUESTIONS TO OUR DATASET"
   ]
  },
  {
   "cell_type": "code",
   "execution_count": 125,
   "metadata": {},
   "outputs": [],
   "source": [
    "data=pd.read_csv('./Final_ecommerce.csv', encoding='ISO-8859-1', dtype={'customer_id': str,'invoice_no': str})\n",
    "\n",
    "\n",
    "import dateutil\n",
    "# Convert invoice_date from object type to date times\n",
    "data['invoice_date'] = data['invoice_date'].apply(dateutil.parser.parse, dayfirst=True)\n"
   ]
  },
  {
   "cell_type": "code",
   "execution_count": 126,
   "metadata": {},
   "outputs": [],
   "source": [
    "#Extract month and year together from column in Pandas:\n",
    "data['year_month'] = pd.to_datetime(data['invoice_date']).dt.to_period('M')\n",
    "\n",
    "#Extract month, year, day and hour separetly from column 'invoice_date':\n",
    "data['year']=data['invoice_date'].dt.year\n",
    "data['month']=data['invoice_date'].dt.month\n",
    "data['day']=data['invoice_date'].dt.day\n",
    "data['hour']=data['invoice_date'].dt.hour"
   ]
  },
  {
   "cell_type": "code",
   "execution_count": 127,
   "metadata": {},
   "outputs": [
    {
     "name": "stdout",
     "output_type": "stream",
     "text": [
      "<class 'pandas.core.frame.DataFrame'>\n",
      "RangeIndex: 370152 entries, 0 to 370151\n",
      "Data columns (total 13 columns):\n",
      " #   Column        Non-Null Count   Dtype         \n",
      "---  ------        --------------   -----         \n",
      " 0   invoice_no    370152 non-null  object        \n",
      " 1   stock_code    370152 non-null  object        \n",
      " 2   description   370152 non-null  object        \n",
      " 3   quantity      370152 non-null  int64         \n",
      " 4   invoice_date  370152 non-null  datetime64[ns]\n",
      " 5   unit_price    370152 non-null  float64       \n",
      " 6   customer_id   370152 non-null  object        \n",
      " 7   country       370152 non-null  object        \n",
      " 8   year_month    370152 non-null  period[M]     \n",
      " 9   year          370152 non-null  int64         \n",
      " 10  month         370152 non-null  int64         \n",
      " 11  day           370152 non-null  int64         \n",
      " 12  hour          370152 non-null  int64         \n",
      "dtypes: datetime64[ns](1), float64(1), int64(5), object(5), period[M](1)\n",
      "memory usage: 36.7+ MB\n"
     ]
    }
   ],
   "source": [
    "data.info()"
   ]
  },
  {
   "cell_type": "code",
   "execution_count": 128,
   "metadata": {},
   "outputs": [
    {
     "data": {
      "text/html": [
       "<div>\n",
       "<style scoped>\n",
       "    .dataframe tbody tr th:only-of-type {\n",
       "        vertical-align: middle;\n",
       "    }\n",
       "\n",
       "    .dataframe tbody tr th {\n",
       "        vertical-align: top;\n",
       "    }\n",
       "\n",
       "    .dataframe thead th {\n",
       "        text-align: right;\n",
       "    }\n",
       "</style>\n",
       "<table border=\"1\" class=\"dataframe\">\n",
       "  <thead>\n",
       "    <tr style=\"text-align: right;\">\n",
       "      <th></th>\n",
       "      <th>count</th>\n",
       "      <th>unique</th>\n",
       "      <th>top</th>\n",
       "      <th>freq</th>\n",
       "    </tr>\n",
       "  </thead>\n",
       "  <tbody>\n",
       "    <tr>\n",
       "      <th>invoice_no</th>\n",
       "      <td>370152</td>\n",
       "      <td>20660</td>\n",
       "      <td>576339</td>\n",
       "      <td>535</td>\n",
       "    </tr>\n",
       "    <tr>\n",
       "      <th>stock_code</th>\n",
       "      <td>370152</td>\n",
       "      <td>3665</td>\n",
       "      <td>22423</td>\n",
       "      <td>1784</td>\n",
       "    </tr>\n",
       "    <tr>\n",
       "      <th>description</th>\n",
       "      <td>370152</td>\n",
       "      <td>3871</td>\n",
       "      <td>regency cakestand 3 tier</td>\n",
       "      <td>1784</td>\n",
       "    </tr>\n",
       "    <tr>\n",
       "      <th>customer_id</th>\n",
       "      <td>370152</td>\n",
       "      <td>4274</td>\n",
       "      <td>17841.0</td>\n",
       "      <td>7614</td>\n",
       "    </tr>\n",
       "    <tr>\n",
       "      <th>country</th>\n",
       "      <td>370152</td>\n",
       "      <td>37</td>\n",
       "      <td>United Kingdom</td>\n",
       "      <td>330908</td>\n",
       "    </tr>\n",
       "  </tbody>\n",
       "</table>\n",
       "</div>"
      ],
      "text/plain": [
       "              count unique                       top    freq\n",
       "invoice_no   370152  20660                    576339     535\n",
       "stock_code   370152   3665                     22423    1784\n",
       "description  370152   3871  regency cakestand 3 tier    1784\n",
       "customer_id  370152   4274                   17841.0    7614\n",
       "country      370152     37            United Kingdom  330908"
      ]
     },
     "execution_count": 128,
     "metadata": {},
     "output_type": "execute_result"
    }
   ],
   "source": [
    "#summary statistics of object variables\n",
    "data.describe(include=np.object).T"
   ]
  },
  {
   "cell_type": "code",
   "execution_count": 129,
   "metadata": {},
   "outputs": [],
   "source": [
    "#create revenue column\n",
    "data['revenue']=data['unit_price']*data['quantity']"
   ]
  },
  {
   "cell_type": "code",
   "execution_count": 130,
   "metadata": {},
   "outputs": [
    {
     "data": {
      "text/html": [
       "<div>\n",
       "<style scoped>\n",
       "    .dataframe tbody tr th:only-of-type {\n",
       "        vertical-align: middle;\n",
       "    }\n",
       "\n",
       "    .dataframe tbody tr th {\n",
       "        vertical-align: top;\n",
       "    }\n",
       "\n",
       "    .dataframe thead th {\n",
       "        text-align: right;\n",
       "    }\n",
       "</style>\n",
       "<table border=\"1\" class=\"dataframe\">\n",
       "  <thead>\n",
       "    <tr style=\"text-align: right;\">\n",
       "      <th></th>\n",
       "      <th>invoice_no</th>\n",
       "      <th>stock_code</th>\n",
       "      <th>description</th>\n",
       "      <th>quantity</th>\n",
       "      <th>invoice_date</th>\n",
       "      <th>unit_price</th>\n",
       "      <th>customer_id</th>\n",
       "      <th>country</th>\n",
       "      <th>year_month</th>\n",
       "      <th>year</th>\n",
       "      <th>month</th>\n",
       "      <th>day</th>\n",
       "      <th>hour</th>\n",
       "      <th>revenue</th>\n",
       "    </tr>\n",
       "  </thead>\n",
       "  <tbody>\n",
       "    <tr>\n",
       "      <th>0</th>\n",
       "      <td>536365</td>\n",
       "      <td>85123A</td>\n",
       "      <td>white hanging heart t-light holder</td>\n",
       "      <td>6</td>\n",
       "      <td>2010-01-12 08:26:00</td>\n",
       "      <td>2.55</td>\n",
       "      <td>17850.0</td>\n",
       "      <td>United Kingdom</td>\n",
       "      <td>2010-01</td>\n",
       "      <td>2010</td>\n",
       "      <td>1</td>\n",
       "      <td>12</td>\n",
       "      <td>8</td>\n",
       "      <td>15.30</td>\n",
       "    </tr>\n",
       "    <tr>\n",
       "      <th>1</th>\n",
       "      <td>536365</td>\n",
       "      <td>71053</td>\n",
       "      <td>white metal lantern</td>\n",
       "      <td>6</td>\n",
       "      <td>2010-01-12 08:26:00</td>\n",
       "      <td>3.39</td>\n",
       "      <td>17850.0</td>\n",
       "      <td>United Kingdom</td>\n",
       "      <td>2010-01</td>\n",
       "      <td>2010</td>\n",
       "      <td>1</td>\n",
       "      <td>12</td>\n",
       "      <td>8</td>\n",
       "      <td>20.34</td>\n",
       "    </tr>\n",
       "    <tr>\n",
       "      <th>2</th>\n",
       "      <td>536365</td>\n",
       "      <td>84406B</td>\n",
       "      <td>cream cupid hearts coat hanger</td>\n",
       "      <td>8</td>\n",
       "      <td>2010-01-12 08:26:00</td>\n",
       "      <td>2.75</td>\n",
       "      <td>17850.0</td>\n",
       "      <td>United Kingdom</td>\n",
       "      <td>2010-01</td>\n",
       "      <td>2010</td>\n",
       "      <td>1</td>\n",
       "      <td>12</td>\n",
       "      <td>8</td>\n",
       "      <td>22.00</td>\n",
       "    </tr>\n",
       "    <tr>\n",
       "      <th>3</th>\n",
       "      <td>536365</td>\n",
       "      <td>84029G</td>\n",
       "      <td>knitted union flag hot water bottle</td>\n",
       "      <td>6</td>\n",
       "      <td>2010-01-12 08:26:00</td>\n",
       "      <td>3.39</td>\n",
       "      <td>17850.0</td>\n",
       "      <td>United Kingdom</td>\n",
       "      <td>2010-01</td>\n",
       "      <td>2010</td>\n",
       "      <td>1</td>\n",
       "      <td>12</td>\n",
       "      <td>8</td>\n",
       "      <td>20.34</td>\n",
       "    </tr>\n",
       "    <tr>\n",
       "      <th>4</th>\n",
       "      <td>536365</td>\n",
       "      <td>84029E</td>\n",
       "      <td>red woolly hottie white heart.</td>\n",
       "      <td>6</td>\n",
       "      <td>2010-01-12 08:26:00</td>\n",
       "      <td>3.39</td>\n",
       "      <td>17850.0</td>\n",
       "      <td>United Kingdom</td>\n",
       "      <td>2010-01</td>\n",
       "      <td>2010</td>\n",
       "      <td>1</td>\n",
       "      <td>12</td>\n",
       "      <td>8</td>\n",
       "      <td>20.34</td>\n",
       "    </tr>\n",
       "  </tbody>\n",
       "</table>\n",
       "</div>"
      ],
      "text/plain": [
       "  invoice_no stock_code                          description  quantity  \\\n",
       "0     536365     85123A   white hanging heart t-light holder         6   \n",
       "1     536365      71053                  white metal lantern         6   \n",
       "2     536365     84406B       cream cupid hearts coat hanger         8   \n",
       "3     536365     84029G  knitted union flag hot water bottle         6   \n",
       "4     536365     84029E       red woolly hottie white heart.         6   \n",
       "\n",
       "         invoice_date  unit_price customer_id         country year_month  \\\n",
       "0 2010-01-12 08:26:00        2.55     17850.0  United Kingdom    2010-01   \n",
       "1 2010-01-12 08:26:00        3.39     17850.0  United Kingdom    2010-01   \n",
       "2 2010-01-12 08:26:00        2.75     17850.0  United Kingdom    2010-01   \n",
       "3 2010-01-12 08:26:00        3.39     17850.0  United Kingdom    2010-01   \n",
       "4 2010-01-12 08:26:00        3.39     17850.0  United Kingdom    2010-01   \n",
       "\n",
       "   year  month  day  hour  revenue  \n",
       "0  2010      1   12     8    15.30  \n",
       "1  2010      1   12     8    20.34  \n",
       "2  2010      1   12     8    22.00  \n",
       "3  2010      1   12     8    20.34  \n",
       "4  2010      1   12     8    20.34  "
      ]
     },
     "execution_count": 130,
     "metadata": {},
     "output_type": "execute_result"
    }
   ],
   "source": [
    "data.head()"
   ]
  },
  {
   "cell_type": "markdown",
   "metadata": {},
   "source": [
    "### Track Sales "
   ]
  },
  {
   "cell_type": "code",
   "execution_count": 131,
   "metadata": {},
   "outputs": [
    {
     "name": "stdout",
     "output_type": "stream",
     "text": [
      "years present in the dataset:\n",
      "[2010 2011]\n"
     ]
    }
   ],
   "source": [
    "   \n",
    "print('years present in the dataset:')\n",
    "print(data['year'].unique())"
   ]
  },
  {
   "cell_type": "markdown",
   "metadata": {},
   "source": [
    "##### Task 1: what was the total orders per country?"
   ]
  },
  {
   "cell_type": "code",
   "execution_count": 133,
   "metadata": {},
   "outputs": [
    {
     "data": {
      "text/html": [
       "<style  type=\"text/css\" >\n",
       "</style><table id=\"T_0e75d4ba_80f0_11eb_9a76_a0d37abf142b\" ><thead>    <tr>        <th class=\"blank level0\" ></th>        <th class=\"col_heading level0 col0\" >country</th>        <th class=\"col_heading level0 col1\" >count</th>        <th class=\"col_heading level0 col2\" >percent</th>        <th class=\"col_heading level0 col3\" >cumulative_count</th>        <th class=\"col_heading level0 col4\" >cumulative_percent</th>    </tr></thead><tbody>\n",
       "                <tr>\n",
       "                        <th id=\"T_0e75d4ba_80f0_11eb_9a76_a0d37abf142blevel0_row0\" class=\"row_heading level0 row0\" >0</th>\n",
       "                        <td id=\"T_0e75d4ba_80f0_11eb_9a76_a0d37abf142brow0_col0\" class=\"data row0 col0\" >United Kingdom</td>\n",
       "                        <td id=\"T_0e75d4ba_80f0_11eb_9a76_a0d37abf142brow0_col1\" class=\"data row0 col1\" >330,908</td>\n",
       "                        <td id=\"T_0e75d4ba_80f0_11eb_9a76_a0d37abf142brow0_col2\" class=\"data row0 col2\" >89.40%</td>\n",
       "                        <td id=\"T_0e75d4ba_80f0_11eb_9a76_a0d37abf142brow0_col3\" class=\"data row0 col3\" >330,908</td>\n",
       "                        <td id=\"T_0e75d4ba_80f0_11eb_9a76_a0d37abf142brow0_col4\" class=\"data row0 col4\" >89.40%</td>\n",
       "            </tr>\n",
       "            <tr>\n",
       "                        <th id=\"T_0e75d4ba_80f0_11eb_9a76_a0d37abf142blevel0_row1\" class=\"row_heading level0 row1\" >1</th>\n",
       "                        <td id=\"T_0e75d4ba_80f0_11eb_9a76_a0d37abf142brow1_col0\" class=\"data row1 col0\" >Germany</td>\n",
       "                        <td id=\"T_0e75d4ba_80f0_11eb_9a76_a0d37abf142brow1_col1\" class=\"data row1 col1\" >8,929</td>\n",
       "                        <td id=\"T_0e75d4ba_80f0_11eb_9a76_a0d37abf142brow1_col2\" class=\"data row1 col2\" >2.41%</td>\n",
       "                        <td id=\"T_0e75d4ba_80f0_11eb_9a76_a0d37abf142brow1_col3\" class=\"data row1 col3\" >339,837</td>\n",
       "                        <td id=\"T_0e75d4ba_80f0_11eb_9a76_a0d37abf142brow1_col4\" class=\"data row1 col4\" >91.81%</td>\n",
       "            </tr>\n",
       "            <tr>\n",
       "                        <th id=\"T_0e75d4ba_80f0_11eb_9a76_a0d37abf142blevel0_row2\" class=\"row_heading level0 row2\" >2</th>\n",
       "                        <td id=\"T_0e75d4ba_80f0_11eb_9a76_a0d37abf142brow2_col0\" class=\"data row2 col0\" >France</td>\n",
       "                        <td id=\"T_0e75d4ba_80f0_11eb_9a76_a0d37abf142brow2_col1\" class=\"data row2 col1\" >7,938</td>\n",
       "                        <td id=\"T_0e75d4ba_80f0_11eb_9a76_a0d37abf142brow2_col2\" class=\"data row2 col2\" >2.14%</td>\n",
       "                        <td id=\"T_0e75d4ba_80f0_11eb_9a76_a0d37abf142brow2_col3\" class=\"data row2 col3\" >347,775</td>\n",
       "                        <td id=\"T_0e75d4ba_80f0_11eb_9a76_a0d37abf142brow2_col4\" class=\"data row2 col4\" >93.95%</td>\n",
       "            </tr>\n",
       "            <tr>\n",
       "                        <th id=\"T_0e75d4ba_80f0_11eb_9a76_a0d37abf142blevel0_row3\" class=\"row_heading level0 row3\" >3</th>\n",
       "                        <td id=\"T_0e75d4ba_80f0_11eb_9a76_a0d37abf142brow3_col0\" class=\"data row3 col0\" >EIRE</td>\n",
       "                        <td id=\"T_0e75d4ba_80f0_11eb_9a76_a0d37abf142brow3_col1\" class=\"data row3 col1\" >6,584</td>\n",
       "                        <td id=\"T_0e75d4ba_80f0_11eb_9a76_a0d37abf142brow3_col2\" class=\"data row3 col2\" >1.78%</td>\n",
       "                        <td id=\"T_0e75d4ba_80f0_11eb_9a76_a0d37abf142brow3_col3\" class=\"data row3 col3\" >354,359</td>\n",
       "                        <td id=\"T_0e75d4ba_80f0_11eb_9a76_a0d37abf142brow3_col4\" class=\"data row3 col4\" >95.73%</td>\n",
       "            </tr>\n",
       "            <tr>\n",
       "                        <th id=\"T_0e75d4ba_80f0_11eb_9a76_a0d37abf142blevel0_row4\" class=\"row_heading level0 row4\" >4</th>\n",
       "                        <td id=\"T_0e75d4ba_80f0_11eb_9a76_a0d37abf142brow4_col0\" class=\"data row4 col0\" >Spain</td>\n",
       "                        <td id=\"T_0e75d4ba_80f0_11eb_9a76_a0d37abf142brow4_col1\" class=\"data row4 col1\" >2,403</td>\n",
       "                        <td id=\"T_0e75d4ba_80f0_11eb_9a76_a0d37abf142brow4_col2\" class=\"data row4 col2\" >0.65%</td>\n",
       "                        <td id=\"T_0e75d4ba_80f0_11eb_9a76_a0d37abf142brow4_col3\" class=\"data row4 col3\" >356,762</td>\n",
       "                        <td id=\"T_0e75d4ba_80f0_11eb_9a76_a0d37abf142brow4_col4\" class=\"data row4 col4\" >96.38%</td>\n",
       "            </tr>\n",
       "            <tr>\n",
       "                        <th id=\"T_0e75d4ba_80f0_11eb_9a76_a0d37abf142blevel0_row5\" class=\"row_heading level0 row5\" >5</th>\n",
       "                        <td id=\"T_0e75d4ba_80f0_11eb_9a76_a0d37abf142brow5_col0\" class=\"data row5 col0\" >Belgium</td>\n",
       "                        <td id=\"T_0e75d4ba_80f0_11eb_9a76_a0d37abf142brow5_col1\" class=\"data row5 col1\" >1,992</td>\n",
       "                        <td id=\"T_0e75d4ba_80f0_11eb_9a76_a0d37abf142brow5_col2\" class=\"data row5 col2\" >0.54%</td>\n",
       "                        <td id=\"T_0e75d4ba_80f0_11eb_9a76_a0d37abf142brow5_col3\" class=\"data row5 col3\" >358,754</td>\n",
       "                        <td id=\"T_0e75d4ba_80f0_11eb_9a76_a0d37abf142brow5_col4\" class=\"data row5 col4\" >96.92%</td>\n",
       "            </tr>\n",
       "            <tr>\n",
       "                        <th id=\"T_0e75d4ba_80f0_11eb_9a76_a0d37abf142blevel0_row6\" class=\"row_heading level0 row6\" >6</th>\n",
       "                        <td id=\"T_0e75d4ba_80f0_11eb_9a76_a0d37abf142brow6_col0\" class=\"data row6 col0\" >Switzerland</td>\n",
       "                        <td id=\"T_0e75d4ba_80f0_11eb_9a76_a0d37abf142brow6_col1\" class=\"data row6 col1\" >1,682</td>\n",
       "                        <td id=\"T_0e75d4ba_80f0_11eb_9a76_a0d37abf142brow6_col2\" class=\"data row6 col2\" >0.45%</td>\n",
       "                        <td id=\"T_0e75d4ba_80f0_11eb_9a76_a0d37abf142brow6_col3\" class=\"data row6 col3\" >360,436</td>\n",
       "                        <td id=\"T_0e75d4ba_80f0_11eb_9a76_a0d37abf142brow6_col4\" class=\"data row6 col4\" >97.38%</td>\n",
       "            </tr>\n",
       "            <tr>\n",
       "                        <th id=\"T_0e75d4ba_80f0_11eb_9a76_a0d37abf142blevel0_row7\" class=\"row_heading level0 row7\" >7</th>\n",
       "                        <td id=\"T_0e75d4ba_80f0_11eb_9a76_a0d37abf142brow7_col0\" class=\"data row7 col0\" >Portugal</td>\n",
       "                        <td id=\"T_0e75d4ba_80f0_11eb_9a76_a0d37abf142brow7_col1\" class=\"data row7 col1\" >1,381</td>\n",
       "                        <td id=\"T_0e75d4ba_80f0_11eb_9a76_a0d37abf142brow7_col2\" class=\"data row7 col2\" >0.37%</td>\n",
       "                        <td id=\"T_0e75d4ba_80f0_11eb_9a76_a0d37abf142brow7_col3\" class=\"data row7 col3\" >361,817</td>\n",
       "                        <td id=\"T_0e75d4ba_80f0_11eb_9a76_a0d37abf142brow7_col4\" class=\"data row7 col4\" >97.75%</td>\n",
       "            </tr>\n",
       "            <tr>\n",
       "                        <th id=\"T_0e75d4ba_80f0_11eb_9a76_a0d37abf142blevel0_row8\" class=\"row_heading level0 row8\" >8</th>\n",
       "                        <td id=\"T_0e75d4ba_80f0_11eb_9a76_a0d37abf142brow8_col0\" class=\"data row8 col0\" >Norway</td>\n",
       "                        <td id=\"T_0e75d4ba_80f0_11eb_9a76_a0d37abf142brow8_col1\" class=\"data row8 col1\" >928</td>\n",
       "                        <td id=\"T_0e75d4ba_80f0_11eb_9a76_a0d37abf142brow8_col2\" class=\"data row8 col2\" >0.25%</td>\n",
       "                        <td id=\"T_0e75d4ba_80f0_11eb_9a76_a0d37abf142brow8_col3\" class=\"data row8 col3\" >362,745</td>\n",
       "                        <td id=\"T_0e75d4ba_80f0_11eb_9a76_a0d37abf142brow8_col4\" class=\"data row8 col4\" >98.00%</td>\n",
       "            </tr>\n",
       "            <tr>\n",
       "                        <th id=\"T_0e75d4ba_80f0_11eb_9a76_a0d37abf142blevel0_row9\" class=\"row_heading level0 row9\" >9</th>\n",
       "                        <td id=\"T_0e75d4ba_80f0_11eb_9a76_a0d37abf142brow9_col0\" class=\"data row9 col0\" >Netherlands</td>\n",
       "                        <td id=\"T_0e75d4ba_80f0_11eb_9a76_a0d37abf142brow9_col1\" class=\"data row9 col1\" >791</td>\n",
       "                        <td id=\"T_0e75d4ba_80f0_11eb_9a76_a0d37abf142brow9_col2\" class=\"data row9 col2\" >0.21%</td>\n",
       "                        <td id=\"T_0e75d4ba_80f0_11eb_9a76_a0d37abf142brow9_col3\" class=\"data row9 col3\" >363,536</td>\n",
       "                        <td id=\"T_0e75d4ba_80f0_11eb_9a76_a0d37abf142brow9_col4\" class=\"data row9 col4\" >98.21%</td>\n",
       "            </tr>\n",
       "            <tr>\n",
       "                        <th id=\"T_0e75d4ba_80f0_11eb_9a76_a0d37abf142blevel0_row10\" class=\"row_heading level0 row10\" >10</th>\n",
       "                        <td id=\"T_0e75d4ba_80f0_11eb_9a76_a0d37abf142brow10_col0\" class=\"data row10 col0\" >Italy</td>\n",
       "                        <td id=\"T_0e75d4ba_80f0_11eb_9a76_a0d37abf142brow10_col1\" class=\"data row10 col1\" >781</td>\n",
       "                        <td id=\"T_0e75d4ba_80f0_11eb_9a76_a0d37abf142brow10_col2\" class=\"data row10 col2\" >0.21%</td>\n",
       "                        <td id=\"T_0e75d4ba_80f0_11eb_9a76_a0d37abf142brow10_col3\" class=\"data row10 col3\" >364,317</td>\n",
       "                        <td id=\"T_0e75d4ba_80f0_11eb_9a76_a0d37abf142brow10_col4\" class=\"data row10 col4\" >98.42%</td>\n",
       "            </tr>\n",
       "            <tr>\n",
       "                        <th id=\"T_0e75d4ba_80f0_11eb_9a76_a0d37abf142blevel0_row11\" class=\"row_heading level0 row11\" >11</th>\n",
       "                        <td id=\"T_0e75d4ba_80f0_11eb_9a76_a0d37abf142brow11_col0\" class=\"data row11 col0\" >others</td>\n",
       "                        <td id=\"T_0e75d4ba_80f0_11eb_9a76_a0d37abf142brow11_col1\" class=\"data row11 col1\" >5,835</td>\n",
       "                        <td id=\"T_0e75d4ba_80f0_11eb_9a76_a0d37abf142brow11_col2\" class=\"data row11 col2\" >1.58%</td>\n",
       "                        <td id=\"T_0e75d4ba_80f0_11eb_9a76_a0d37abf142brow11_col3\" class=\"data row11 col3\" >370,152</td>\n",
       "                        <td id=\"T_0e75d4ba_80f0_11eb_9a76_a0d37abf142brow11_col4\" class=\"data row11 col4\" >100.00%</td>\n",
       "            </tr>\n",
       "    </tbody></table>"
      ],
      "text/plain": [
       "<pandas.io.formats.style.Styler at 0x1d95664ba08>"
      ]
     },
     "execution_count": 133,
     "metadata": {},
     "output_type": "execute_result"
    }
   ],
   "source": [
    "import sidetable\n",
    "data.stb.freq(['country'], style=True, thresh=98.5)\n"
   ]
  },
  {
   "cell_type": "code",
   "execution_count": 134,
   "metadata": {},
   "outputs": [
    {
     "data": {
      "image/png": "[encoded data removed]",
      "text/plain": [
       "<Figure size 432x288 with 1 Axes>"
      ]
     },
     "metadata": {
      "needs_background": "light"
     },
     "output_type": "display_data"
    }
   ],
   "source": [
    "#plotting the values:\n",
    "\n",
    "serie1=data.country.value_counts()\n",
    "serie2=serie1.iloc[:12]\n",
    "\n",
    "others_countries=sum(serie1)-sum(serie2) \n",
    "\n",
    "a=pd.Series(serie2)\n",
    "b=pd.Series(others_countries, index=['Others_countries'])\n",
    "\n",
    "count=a.append(b)\n",
    "count.plot(kind='bar')\n",
    "plt.xlabel('Country')\n",
    "plt.ylabel('Orders')\n",
    "plt.title('Number of Orders by Countries')\n",
    "plt.show()"
   ]
  },
  {
   "cell_type": "markdown",
   "metadata": {},
   "source": [
    "###### Task 2: Total sales TOP 5 countries"
   ]
  },
  {
   "cell_type": "code",
   "execution_count": 135,
   "metadata": {},
   "outputs": [
    {
     "name": "stdout",
     "output_type": "stream",
     "text": [
      "\n",
      " Total sales TOP 5 countries\n"
     ]
    },
    {
     "data": {
      "text/html": [
       "<div>\n",
       "<style scoped>\n",
       "    .dataframe tbody tr th:only-of-type {\n",
       "        vertical-align: middle;\n",
       "    }\n",
       "\n",
       "    .dataframe tbody tr th {\n",
       "        vertical-align: top;\n",
       "    }\n",
       "\n",
       "    .dataframe thead th {\n",
       "        text-align: right;\n",
       "    }\n",
       "</style>\n",
       "<table border=\"1\" class=\"dataframe\">\n",
       "  <thead>\n",
       "    <tr style=\"text-align: right;\">\n",
       "      <th></th>\n",
       "      <th>revenue</th>\n",
       "    </tr>\n",
       "    <tr>\n",
       "      <th>country</th>\n",
       "      <th></th>\n",
       "    </tr>\n",
       "  </thead>\n",
       "  <tbody>\n",
       "    <tr>\n",
       "      <th>United Kingdom</th>\n",
       "      <td>4304380.644</td>\n",
       "    </tr>\n",
       "    <tr>\n",
       "      <th>Germany</th>\n",
       "      <td>178366.770</td>\n",
       "    </tr>\n",
       "    <tr>\n",
       "      <th>France</th>\n",
       "      <td>156672.650</td>\n",
       "    </tr>\n",
       "    <tr>\n",
       "      <th>EIRE</th>\n",
       "      <td>136780.410</td>\n",
       "    </tr>\n",
       "    <tr>\n",
       "      <th>Switzerland</th>\n",
       "      <td>40769.910</td>\n",
       "    </tr>\n",
       "  </tbody>\n",
       "</table>\n",
       "</div>"
      ],
      "text/plain": [
       "                    revenue\n",
       "country                    \n",
       "United Kingdom  4304380.644\n",
       "Germany          178366.770\n",
       "France           156672.650\n",
       "EIRE             136780.410\n",
       "Switzerland       40769.910"
      ]
     },
     "execution_count": 135,
     "metadata": {},
     "output_type": "execute_result"
    }
   ],
   "source": [
    "total_sales = data.groupby('country')['revenue'].sum()\n",
    "\n",
    "print('\\n Total sales TOP 5 countries')\n",
    "total_sales.sort_values(ascending=False).to_frame().head(5)  "
   ]
  },
  {
   "cell_type": "markdown",
   "metadata": {},
   "source": [
    "## Analyzing a specific country: United Kingdom"
   ]
  },
  {
   "cell_type": "code",
   "execution_count": 136,
   "metadata": {},
   "outputs": [],
   "source": [
    "#create a new dataframe with only United Kingdom data.\n",
    "revenueUK=data[data['country']== 'United Kingdom'].copy()\n",
    "\n",
    "#create two new dataset divided into two years\n",
    "data2010uk=revenueUK[revenueUK['year']==2010]\n",
    "data2011uk=revenueUK[revenueUK['year']==2011]"
   ]
  },
  {
   "cell_type": "markdown",
   "metadata": {},
   "source": [
    "###### Task 1: what was the total sales per year in UK?"
   ]
  },
  {
   "cell_type": "code",
   "execution_count": 137,
   "metadata": {},
   "outputs": [
    {
     "name": "stdout",
     "output_type": "stream",
     "text": [
      "\n",
      "Total sales and total orders in United Kingdom per year:\n"
     ]
    },
    {
     "data": {
      "text/html": [
       "<div>\n",
       "<style scoped>\n",
       "    .dataframe tbody tr th:only-of-type {\n",
       "        vertical-align: middle;\n",
       "    }\n",
       "\n",
       "    .dataframe tbody tr th {\n",
       "        vertical-align: top;\n",
       "    }\n",
       "\n",
       "    .dataframe thead th {\n",
       "        text-align: right;\n",
       "    }\n",
       "</style>\n",
       "<table border=\"1\" class=\"dataframe\">\n",
       "  <thead>\n",
       "    <tr style=\"text-align: right;\">\n",
       "      <th>year</th>\n",
       "      <th>2010</th>\n",
       "      <th>2011</th>\n",
       "    </tr>\n",
       "  </thead>\n",
       "  <tbody>\n",
       "    <tr>\n",
       "      <th>sales</th>\n",
       "      <td>297538.09</td>\n",
       "      <td>4006842.554</td>\n",
       "    </tr>\n",
       "    <tr>\n",
       "      <th>orders</th>\n",
       "      <td>22083.00</td>\n",
       "      <td>308825.000</td>\n",
       "    </tr>\n",
       "  </tbody>\n",
       "</table>\n",
       "</div>"
      ],
      "text/plain": [
       "year         2010         2011\n",
       "sales   297538.09  4006842.554\n",
       "orders   22083.00   308825.000"
      ]
     },
     "execution_count": 137,
     "metadata": {},
     "output_type": "execute_result"
    }
   ],
   "source": [
    "total=revenueUK.groupby(['year']).agg(sales=pd.NamedAgg(column='revenue', aggfunc='sum'),\n",
    "                                                orders=pd.NamedAgg(column='invoice_no', aggfunc='count'),\n",
    "                                           )\n",
    "print('\\nTotal sales and total orders in United Kingdom per year:')\n",
    "total.T"
   ]
  },
  {
   "cell_type": "markdown",
   "metadata": {},
   "source": [
    "Task 2: Best month for sales per years"
   ]
  },
  {
   "cell_type": "code",
   "execution_count": 150,
   "metadata": {},
   "outputs": [
    {
     "name": "stdout",
     "output_type": "stream",
     "text": [
      "\n",
      "Best month of sales in 2010:\n"
     ]
    },
    {
     "data": {
      "text/html": [
       "<div>\n",
       "<style scoped>\n",
       "    .dataframe tbody tr th:only-of-type {\n",
       "        vertical-align: middle;\n",
       "    }\n",
       "\n",
       "    .dataframe tbody tr th {\n",
       "        vertical-align: top;\n",
       "    }\n",
       "\n",
       "    .dataframe thead th {\n",
       "        text-align: right;\n",
       "    }\n",
       "</style>\n",
       "<table border=\"1\" class=\"dataframe\">\n",
       "  <thead>\n",
       "    <tr style=\"text-align: right;\">\n",
       "      <th></th>\n",
       "      <th>sales</th>\n",
       "      <th>orders</th>\n",
       "    </tr>\n",
       "    <tr>\n",
       "      <th>year_month</th>\n",
       "      <th></th>\n",
       "      <th></th>\n",
       "    </tr>\n",
       "  </thead>\n",
       "  <tbody>\n",
       "    <tr>\n",
       "      <th>2010-12</th>\n",
       "      <td>125870.42</td>\n",
       "      <td>8626</td>\n",
       "    </tr>\n",
       "    <tr>\n",
       "      <th>2010-02</th>\n",
       "      <td>26940.24</td>\n",
       "      <td>1790</td>\n",
       "    </tr>\n",
       "    <tr>\n",
       "      <th>2010-08</th>\n",
       "      <td>24254.45</td>\n",
       "      <td>1697</td>\n",
       "    </tr>\n",
       "    <tr>\n",
       "      <th>2010-01</th>\n",
       "      <td>21165.25</td>\n",
       "      <td>1586</td>\n",
       "    </tr>\n",
       "    <tr>\n",
       "      <th>2010-06</th>\n",
       "      <td>19771.82</td>\n",
       "      <td>1746</td>\n",
       "    </tr>\n",
       "    <tr>\n",
       "      <th>2010-09</th>\n",
       "      <td>19464.19</td>\n",
       "      <td>1483</td>\n",
       "    </tr>\n",
       "    <tr>\n",
       "      <th>2010-05</th>\n",
       "      <td>18907.90</td>\n",
       "      <td>2232</td>\n",
       "    </tr>\n",
       "    <tr>\n",
       "      <th>2010-10</th>\n",
       "      <td>14871.47</td>\n",
       "      <td>1163</td>\n",
       "    </tr>\n",
       "    <tr>\n",
       "      <th>2010-07</th>\n",
       "      <td>14610.98</td>\n",
       "      <td>906</td>\n",
       "    </tr>\n",
       "    <tr>\n",
       "      <th>2010-03</th>\n",
       "      <td>11681.37</td>\n",
       "      <td>854</td>\n",
       "    </tr>\n",
       "  </tbody>\n",
       "</table>\n",
       "</div>"
      ],
      "text/plain": [
       "                sales  orders\n",
       "year_month                   \n",
       "2010-12     125870.42    8626\n",
       "2010-02      26940.24    1790\n",
       "2010-08      24254.45    1697\n",
       "2010-01      21165.25    1586\n",
       "2010-06      19771.82    1746\n",
       "2010-09      19464.19    1483\n",
       "2010-05      18907.90    2232\n",
       "2010-10      14871.47    1163\n",
       "2010-07      14610.98     906\n",
       "2010-03      11681.37     854"
      ]
     },
     "execution_count": 150,
     "metadata": {},
     "output_type": "execute_result"
    }
   ],
   "source": [
    "best_month2010 = data2010uk.groupby(['year_month']).agg(sales=pd.NamedAgg(column='revenue', aggfunc='sum'),\n",
    "                                                orders=pd.NamedAgg(column='invoice_no', aggfunc='count'),)\n",
    "\n",
    "print('\\nBest month of sales in 2010:')\n",
    "best_month2010.sort_values(by='sales', ascending=False)\n",
    "\n",
    "#or individualment:\n",
    "# dataUK.groupby(['month'], as_index=True)[['invoice_no']].agg('count')\n",
    "# as_index=False, by default is False."
   ]
  },
  {
   "cell_type": "code",
   "execution_count": 151,
   "metadata": {},
   "outputs": [
    {
     "name": "stdout",
     "output_type": "stream",
     "text": [
      "\n",
      "Best month of sales in 2011:\n"
     ]
    },
    {
     "data": {
      "text/html": [
       "<div>\n",
       "<style scoped>\n",
       "    .dataframe tbody tr th:only-of-type {\n",
       "        vertical-align: middle;\n",
       "    }\n",
       "\n",
       "    .dataframe tbody tr th {\n",
       "        vertical-align: top;\n",
       "    }\n",
       "\n",
       "    .dataframe thead th {\n",
       "        text-align: right;\n",
       "    }\n",
       "</style>\n",
       "<table border=\"1\" class=\"dataframe\">\n",
       "  <thead>\n",
       "    <tr style=\"text-align: right;\">\n",
       "      <th></th>\n",
       "      <th>sales</th>\n",
       "      <th>orders</th>\n",
       "    </tr>\n",
       "    <tr>\n",
       "      <th>year_month</th>\n",
       "      <th></th>\n",
       "      <th></th>\n",
       "    </tr>\n",
       "  </thead>\n",
       "  <tbody>\n",
       "    <tr>\n",
       "      <th>2011-11</th>\n",
       "      <td>541759.800</td>\n",
       "      <td>45318</td>\n",
       "    </tr>\n",
       "    <tr>\n",
       "      <th>2011-10</th>\n",
       "      <td>448091.110</td>\n",
       "      <td>36026</td>\n",
       "    </tr>\n",
       "    <tr>\n",
       "      <th>2011-09</th>\n",
       "      <td>444441.602</td>\n",
       "      <td>31636</td>\n",
       "    </tr>\n",
       "    <tr>\n",
       "      <th>2011-05</th>\n",
       "      <td>345704.330</td>\n",
       "      <td>24547</td>\n",
       "    </tr>\n",
       "    <tr>\n",
       "      <th>2011-06</th>\n",
       "      <td>332045.650</td>\n",
       "      <td>27249</td>\n",
       "    </tr>\n",
       "    <tr>\n",
       "      <th>2011-07</th>\n",
       "      <td>330708.091</td>\n",
       "      <td>26187</td>\n",
       "    </tr>\n",
       "    <tr>\n",
       "      <th>2011-08</th>\n",
       "      <td>318337.650</td>\n",
       "      <td>24405</td>\n",
       "    </tr>\n",
       "    <tr>\n",
       "      <th>2011-04</th>\n",
       "      <td>306156.811</td>\n",
       "      <td>23108</td>\n",
       "    </tr>\n",
       "    <tr>\n",
       "      <th>2011-03</th>\n",
       "      <td>297806.570</td>\n",
       "      <td>23078</td>\n",
       "    </tr>\n",
       "    <tr>\n",
       "      <th>2011-01</th>\n",
       "      <td>273078.690</td>\n",
       "      <td>20767</td>\n",
       "    </tr>\n",
       "    <tr>\n",
       "      <th>2011-02</th>\n",
       "      <td>264582.880</td>\n",
       "      <td>19038</td>\n",
       "    </tr>\n",
       "    <tr>\n",
       "      <th>2011-12</th>\n",
       "      <td>104129.370</td>\n",
       "      <td>7466</td>\n",
       "    </tr>\n",
       "  </tbody>\n",
       "</table>\n",
       "</div>"
      ],
      "text/plain": [
       "                 sales  orders\n",
       "year_month                    \n",
       "2011-11     541759.800   45318\n",
       "2011-10     448091.110   36026\n",
       "2011-09     444441.602   31636\n",
       "2011-05     345704.330   24547\n",
       "2011-06     332045.650   27249\n",
       "2011-07     330708.091   26187\n",
       "2011-08     318337.650   24405\n",
       "2011-04     306156.811   23108\n",
       "2011-03     297806.570   23078\n",
       "2011-01     273078.690   20767\n",
       "2011-02     264582.880   19038\n",
       "2011-12     104129.370    7466"
      ]
     },
     "execution_count": 151,
     "metadata": {},
     "output_type": "execute_result"
    }
   ],
   "source": [
    "best_month2011 = data2011uk.groupby(['year_month']).agg(sales=pd.NamedAgg(column='revenue', aggfunc='sum'),\n",
    "                                                orders=pd.NamedAgg(column='invoice_no', aggfunc='count'),)\n",
    "\n",
    "print('\\nBest month of sales in 2011:')\n",
    "best_month2011.sort_values(by='sales', ascending=False)\n",
    "\n",
    "#or individualment:\n",
    "# dataUK.groupby(['month'], as_index=True)[['invoice_no']].agg('count')\n",
    "# as_index=False, by default is False."
   ]
  },
  {
   "cell_type": "code",
   "execution_count": 152,
   "metadata": {},
   "outputs": [
    {
     "data": {
      "image/png": "[encoded data removed]",
      "text/plain": [
       "<Figure size 1440x432 with 1 Axes>"
      ]
     },
     "metadata": {
      "needs_background": "light"
     },
     "output_type": "display_data"
    }
   ],
   "source": [
    "#Graphically\n",
    "ax = revenueUK.groupby('year_month')['revenue'].sum().sort_index().plot(kind='line', figsize=(20,6))\n",
    "\n",
    "ax.set_xlabel('Month_year',fontsize=15)\n",
    "ax.set_ylabel('Sales',fontsize=15)\n",
    "ax.set_title('Sales for different Months (Jan 2010 - Dec 2011)',fontsize=10)\n",
    "\n",
    "plt.show()"
   ]
  },
  {
   "cell_type": "markdown",
   "metadata": {},
   "source": [
    "#### Task 2: What are the number of clients and products in these entries for different years (in UK)?"
   ]
  },
  {
   "cell_type": "code",
   "execution_count": 139,
   "metadata": {},
   "outputs": [
    {
     "data": {
      "text/plain": [
       "330908"
      ]
     },
     "execution_count": 139,
     "metadata": {},
     "output_type": "execute_result"
    }
   ],
   "source": [
    "revenueUK.shape[0]\n",
    "#The dataframe contains aprox. 330908 entries.\n"
   ]
  },
  {
   "cell_type": "code",
   "execution_count": 140,
   "metadata": {},
   "outputs": [
    {
     "name": "stdout",
     "output_type": "stream",
     "text": [
      "\n",
      "Total number of products, transactions and customers by years\n"
     ]
    },
    {
     "data": {
      "text/html": [
       "<div>\n",
       "<style scoped>\n",
       "    .dataframe tbody tr th:only-of-type {\n",
       "        vertical-align: middle;\n",
       "    }\n",
       "\n",
       "    .dataframe tbody tr th {\n",
       "        vertical-align: top;\n",
       "    }\n",
       "\n",
       "    .dataframe thead th {\n",
       "        text-align: right;\n",
       "    }\n",
       "</style>\n",
       "<table border=\"1\" class=\"dataframe\">\n",
       "  <thead>\n",
       "    <tr style=\"text-align: right;\">\n",
       "      <th></th>\n",
       "      <th>products</th>\n",
       "      <th>transactions</th>\n",
       "      <th>customers</th>\n",
       "    </tr>\n",
       "  </thead>\n",
       "  <tbody>\n",
       "    <tr>\n",
       "      <th>quantity_2010</th>\n",
       "      <td>2347</td>\n",
       "      <td>1441</td>\n",
       "      <td>829</td>\n",
       "    </tr>\n",
       "    <tr>\n",
       "      <th>quantity_2011</th>\n",
       "      <td>3570</td>\n",
       "      <td>16986</td>\n",
       "      <td>3750</td>\n",
       "    </tr>\n",
       "  </tbody>\n",
       "</table>\n",
       "</div>"
      ],
      "text/plain": [
       "               products  transactions  customers\n",
       "quantity_2010      2347          1441        829\n",
       "quantity_2011      3570         16986       3750"
      ]
     },
     "execution_count": 140,
     "metadata": {},
     "output_type": "execute_result"
    }
   ],
   "source": [
    "df1=pd.DataFrame({'products': data2010uk['stock_code'].nunique(),    \n",
    "               'transactions': data2010uk['invoice_no'].nunique(),\n",
    "               'customers': data2010uk['customer_id'].nunique(),  \n",
    "              }, index = ['quantity_2010'])\n",
    "\n",
    "df2=pd.DataFrame({'products': data2011uk['stock_code'].nunique(),    \n",
    "               'transactions': data2011uk['invoice_no'].nunique(),\n",
    "               'customers': data2011uk['customer_id'].nunique()}, index =['quantity_2011'])\n",
    "    \n",
    "\n",
    "    \n",
    "frames = [df1, df2]\n",
    "result = pd.concat(frames)        \n",
    "\n",
    "print('\\nTotal number of products, transactions and customers by years')\n",
    "pd.DataFrame(result)"
   ]
  },
  {
   "cell_type": "markdown",
   "metadata": {},
   "source": [
    "It can be seen that the data in 2011 concern 3750 clients and that they bought 3570 different products. The total number of transactions carried out is in order of aprox. 17000. \n",
    "\n"
   ]
  },
  {
   "cell_type": "markdown",
   "metadata": {},
   "source": [
    "\n",
    "#### Task 3: determine the number of products purchased in every transaction:"
   ]
  },
  {
   "cell_type": "code",
   "execution_count": 145,
   "metadata": {},
   "outputs": [
    {
     "data": {
      "text/html": [
       "<div>\n",
       "<style scoped>\n",
       "    .dataframe tbody tr th:only-of-type {\n",
       "        vertical-align: middle;\n",
       "    }\n",
       "\n",
       "    .dataframe tbody tr th {\n",
       "        vertical-align: top;\n",
       "    }\n",
       "\n",
       "    .dataframe thead th {\n",
       "        text-align: right;\n",
       "    }\n",
       "</style>\n",
       "<table border=\"1\" class=\"dataframe\">\n",
       "  <thead>\n",
       "    <tr style=\"text-align: right;\">\n",
       "      <th></th>\n",
       "      <th>customer_id</th>\n",
       "      <th>invoice_no</th>\n",
       "      <th>Number of products</th>\n",
       "    </tr>\n",
       "  </thead>\n",
       "  <tbody>\n",
       "    <tr>\n",
       "      <th>500</th>\n",
       "      <td>12924.0</td>\n",
       "      <td>546035</td>\n",
       "      <td>7</td>\n",
       "    </tr>\n",
       "    <tr>\n",
       "      <th>501</th>\n",
       "      <td>12924.0</td>\n",
       "      <td>554655</td>\n",
       "      <td>5</td>\n",
       "    </tr>\n",
       "    <tr>\n",
       "      <th>502</th>\n",
       "      <td>12924.0</td>\n",
       "      <td>566421</td>\n",
       "      <td>13</td>\n",
       "    </tr>\n",
       "    <tr>\n",
       "      <th>503</th>\n",
       "      <td>12924.0</td>\n",
       "      <td>C546783</td>\n",
       "      <td>1</td>\n",
       "    </tr>\n",
       "    <tr>\n",
       "      <th>504</th>\n",
       "      <td>12925.0</td>\n",
       "      <td>568230</td>\n",
       "      <td>23</td>\n",
       "    </tr>\n",
       "    <tr>\n",
       "      <th>505</th>\n",
       "      <td>12925.0</td>\n",
       "      <td>580599</td>\n",
       "      <td>21</td>\n",
       "    </tr>\n",
       "    <tr>\n",
       "      <th>506</th>\n",
       "      <td>12928.0</td>\n",
       "      <td>549749</td>\n",
       "      <td>21</td>\n",
       "    </tr>\n",
       "    <tr>\n",
       "      <th>507</th>\n",
       "      <td>12928.0</td>\n",
       "      <td>560107</td>\n",
       "      <td>15</td>\n",
       "    </tr>\n",
       "    <tr>\n",
       "      <th>508</th>\n",
       "      <td>12928.0</td>\n",
       "      <td>572563</td>\n",
       "      <td>19</td>\n",
       "    </tr>\n",
       "    <tr>\n",
       "      <th>509</th>\n",
       "      <td>12928.0</td>\n",
       "      <td>574533</td>\n",
       "      <td>7</td>\n",
       "    </tr>\n",
       "    <tr>\n",
       "      <th>510</th>\n",
       "      <td>12929.0</td>\n",
       "      <td>542865</td>\n",
       "      <td>8</td>\n",
       "    </tr>\n",
       "  </tbody>\n",
       "</table>\n",
       "</div>"
      ],
      "text/plain": [
       "    customer_id invoice_no  Number of products\n",
       "500     12924.0     546035                   7\n",
       "501     12924.0     554655                   5\n",
       "502     12924.0     566421                  13\n",
       "503     12924.0    C546783                   1\n",
       "504     12925.0     568230                  23\n",
       "505     12925.0     580599                  21\n",
       "506     12928.0     549749                  21\n",
       "507     12928.0     560107                  15\n",
       "508     12928.0     572563                  19\n",
       "509     12928.0     574533                   7\n",
       "510     12929.0     542865                   8"
      ]
     },
     "execution_count": 145,
     "metadata": {},
     "output_type": "execute_result"
    }
   ],
   "source": [
    "tim = data2011uk.groupby(by=['customer_id', 'invoice_no'], as_index=False)['invoice_date'].count()\n",
    "nb_products = tim.rename(columns = {'invoice_date':'Number of products'})\n",
    "nb_products.loc[500:510].sort_values('customer_id')"
   ]
  },
  {
   "cell_type": "markdown",
   "metadata": {},
   "source": [
    "##### Task 4: Number of transactions corresponding to canceled orders"
   ]
  },
  {
   "cell_type": "code",
   "execution_count": 149,
   "metadata": {},
   "outputs": [
    {
     "data": {
      "text/html": [
       "<div>\n",
       "<style scoped>\n",
       "    .dataframe tbody tr th:only-of-type {\n",
       "        vertical-align: middle;\n",
       "    }\n",
       "\n",
       "    .dataframe tbody tr th {\n",
       "        vertical-align: top;\n",
       "    }\n",
       "\n",
       "    .dataframe thead th {\n",
       "        text-align: right;\n",
       "    }\n",
       "</style>\n",
       "<table border=\"1\" class=\"dataframe\">\n",
       "  <thead>\n",
       "    <tr style=\"text-align: right;\">\n",
       "      <th></th>\n",
       "      <th>customer_id</th>\n",
       "      <th>invoice_no</th>\n",
       "      <th>Number of products</th>\n",
       "      <th>order_canceled</th>\n",
       "    </tr>\n",
       "  </thead>\n",
       "  <tbody>\n",
       "    <tr>\n",
       "      <th>500</th>\n",
       "      <td>12924.0</td>\n",
       "      <td>546035</td>\n",
       "      <td>7</td>\n",
       "      <td>0</td>\n",
       "    </tr>\n",
       "    <tr>\n",
       "      <th>501</th>\n",
       "      <td>12924.0</td>\n",
       "      <td>554655</td>\n",
       "      <td>5</td>\n",
       "      <td>0</td>\n",
       "    </tr>\n",
       "    <tr>\n",
       "      <th>502</th>\n",
       "      <td>12924.0</td>\n",
       "      <td>566421</td>\n",
       "      <td>13</td>\n",
       "      <td>0</td>\n",
       "    </tr>\n",
       "    <tr>\n",
       "      <th>503</th>\n",
       "      <td>12924.0</td>\n",
       "      <td>C546783</td>\n",
       "      <td>1</td>\n",
       "      <td>1</td>\n",
       "    </tr>\n",
       "    <tr>\n",
       "      <th>504</th>\n",
       "      <td>12925.0</td>\n",
       "      <td>568230</td>\n",
       "      <td>23</td>\n",
       "      <td>0</td>\n",
       "    </tr>\n",
       "    <tr>\n",
       "      <th>505</th>\n",
       "      <td>12925.0</td>\n",
       "      <td>580599</td>\n",
       "      <td>21</td>\n",
       "      <td>0</td>\n",
       "    </tr>\n",
       "    <tr>\n",
       "      <th>506</th>\n",
       "      <td>12928.0</td>\n",
       "      <td>549749</td>\n",
       "      <td>21</td>\n",
       "      <td>0</td>\n",
       "    </tr>\n",
       "    <tr>\n",
       "      <th>507</th>\n",
       "      <td>12928.0</td>\n",
       "      <td>560107</td>\n",
       "      <td>15</td>\n",
       "      <td>0</td>\n",
       "    </tr>\n",
       "    <tr>\n",
       "      <th>508</th>\n",
       "      <td>12928.0</td>\n",
       "      <td>572563</td>\n",
       "      <td>19</td>\n",
       "      <td>0</td>\n",
       "    </tr>\n",
       "    <tr>\n",
       "      <th>509</th>\n",
       "      <td>12928.0</td>\n",
       "      <td>574533</td>\n",
       "      <td>7</td>\n",
       "      <td>0</td>\n",
       "    </tr>\n",
       "    <tr>\n",
       "      <th>510</th>\n",
       "      <td>12929.0</td>\n",
       "      <td>542865</td>\n",
       "      <td>8</td>\n",
       "      <td>0</td>\n",
       "    </tr>\n",
       "  </tbody>\n",
       "</table>\n",
       "</div>"
      ],
      "text/plain": [
       "    customer_id invoice_no  Number of products  order_canceled\n",
       "500     12924.0     546035                   7               0\n",
       "501     12924.0     554655                   5               0\n",
       "502     12924.0     566421                  13               0\n",
       "503     12924.0    C546783                   1               1\n",
       "504     12925.0     568230                  23               0\n",
       "505     12925.0     580599                  21               0\n",
       "506     12928.0     549749                  21               0\n",
       "507     12928.0     560107                  15               0\n",
       "508     12928.0     572563                  19               0\n",
       "509     12928.0     574533                   7               0\n",
       "510     12929.0     542865                   8               0"
      ]
     },
     "metadata": {},
     "output_type": "display_data"
    },
    {
     "name": "stdout",
     "output_type": "stream",
     "text": [
      "Number of orders canceled: 2679/16986 (15.77%) \n"
     ]
    }
   ],
   "source": [
    "#count the number of transactions corresponding to canceled orders:\n",
    "nb_products['order_canceled'] = nb_products['invoice_no'].apply(lambda x:int('C' in x)).copy()\n",
    "display(nb_products.loc[500:510])\n",
    "\n",
    "\n",
    "#calculating the number of orders canceled\n",
    "n1 = nb_products['order_canceled'].sum()\n",
    "n2 = nb_products.shape[0]\n",
    "print('Number of orders canceled: {}/{} ({:.2f}%) '.format(n1, n2, n1/n2*100))"
   ]
  },
  {
   "cell_type": "markdown",
   "metadata": {},
   "source": [
    "##### 2. How many orders per day, How many orders per hour?"
   ]
  },
  {
   "cell_type": "code",
   "execution_count": 153,
   "metadata": {},
   "outputs": [
    {
     "data": {
      "text/html": [
       "<div>\n",
       "<style scoped>\n",
       "    .dataframe tbody tr th:only-of-type {\n",
       "        vertical-align: middle;\n",
       "    }\n",
       "\n",
       "    .dataframe tbody tr th {\n",
       "        vertical-align: top;\n",
       "    }\n",
       "\n",
       "    .dataframe thead th {\n",
       "        text-align: right;\n",
       "    }\n",
       "</style>\n",
       "<table border=\"1\" class=\"dataframe\">\n",
       "  <thead>\n",
       "    <tr style=\"text-align: right;\">\n",
       "      <th></th>\n",
       "      <th>invoice_no</th>\n",
       "      <th>stock_code</th>\n",
       "      <th>description</th>\n",
       "      <th>quantity</th>\n",
       "      <th>invoice_date</th>\n",
       "      <th>unit_price</th>\n",
       "      <th>customer_id</th>\n",
       "      <th>country</th>\n",
       "      <th>year_month</th>\n",
       "      <th>year</th>\n",
       "      <th>month</th>\n",
       "      <th>day</th>\n",
       "      <th>hour</th>\n",
       "      <th>revenue</th>\n",
       "    </tr>\n",
       "  </thead>\n",
       "  <tbody>\n",
       "    <tr>\n",
       "      <th>24126</th>\n",
       "      <td>539993</td>\n",
       "      <td>22386</td>\n",
       "      <td>jumbo bag pink polkadot</td>\n",
       "      <td>10</td>\n",
       "      <td>2011-04-01 10:00:00</td>\n",
       "      <td>1.95</td>\n",
       "      <td>13313.0</td>\n",
       "      <td>United Kingdom</td>\n",
       "      <td>2011-04</td>\n",
       "      <td>2011</td>\n",
       "      <td>4</td>\n",
       "      <td>1</td>\n",
       "      <td>10</td>\n",
       "      <td>19.5</td>\n",
       "    </tr>\n",
       "    <tr>\n",
       "      <th>24127</th>\n",
       "      <td>539993</td>\n",
       "      <td>21499</td>\n",
       "      <td>blue polkadot wrap</td>\n",
       "      <td>25</td>\n",
       "      <td>2011-04-01 10:00:00</td>\n",
       "      <td>0.42</td>\n",
       "      <td>13313.0</td>\n",
       "      <td>United Kingdom</td>\n",
       "      <td>2011-04</td>\n",
       "      <td>2011</td>\n",
       "      <td>4</td>\n",
       "      <td>1</td>\n",
       "      <td>10</td>\n",
       "      <td>10.5</td>\n",
       "    </tr>\n",
       "  </tbody>\n",
       "</table>\n",
       "</div>"
      ],
      "text/plain": [
       "      invoice_no stock_code              description  quantity  \\\n",
       "24126     539993      22386  jumbo bag pink polkadot        10   \n",
       "24127     539993      21499       blue polkadot wrap        25   \n",
       "\n",
       "             invoice_date  unit_price customer_id         country year_month  \\\n",
       "24126 2011-04-01 10:00:00        1.95     13313.0  United Kingdom    2011-04   \n",
       "24127 2011-04-01 10:00:00        0.42     13313.0  United Kingdom    2011-04   \n",
       "\n",
       "       year  month  day  hour  revenue  \n",
       "24126  2011      4    1    10     19.5  \n",
       "24127  2011      4    1    10     10.5  "
      ]
     },
     "execution_count": 153,
     "metadata": {},
     "output_type": "execute_result"
    }
   ],
   "source": [
    "data2011uk.head(2)"
   ]
  },
  {
   "cell_type": "code",
   "execution_count": 154,
   "metadata": {},
   "outputs": [
    {
     "name": "stderr",
     "output_type": "stream",
     "text": [
      "C:\\Users\\candi\\anaconda3\\lib\\site-packages\\ipykernel_launcher.py:3: SettingWithCopyWarning: \n",
      "A value is trying to be set on a copy of a slice from a DataFrame.\n",
      "Try using .loc[row_indexer,col_indexer] = value instead\n",
      "\n",
      "See the caveats in the documentation: https://pandas.pydata.org/pandas-docs/stable/user_guide/indexing.html#returning-a-view-versus-a-copy\n",
      "  This is separate from the ipykernel package so we can avoid doing imports until\n"
     ]
    },
    {
     "data": {
      "text/html": [
       "<div>\n",
       "<style scoped>\n",
       "    .dataframe tbody tr th:only-of-type {\n",
       "        vertical-align: middle;\n",
       "    }\n",
       "\n",
       "    .dataframe tbody tr th {\n",
       "        vertical-align: top;\n",
       "    }\n",
       "\n",
       "    .dataframe thead th {\n",
       "        text-align: right;\n",
       "    }\n",
       "</style>\n",
       "<table border=\"1\" class=\"dataframe\">\n",
       "  <thead>\n",
       "    <tr style=\"text-align: right;\">\n",
       "      <th></th>\n",
       "      <th>invoice_no</th>\n",
       "      <th>stock_code</th>\n",
       "      <th>description</th>\n",
       "      <th>quantity</th>\n",
       "      <th>invoice_date</th>\n",
       "      <th>unit_price</th>\n",
       "      <th>customer_id</th>\n",
       "      <th>country</th>\n",
       "      <th>year_month</th>\n",
       "      <th>year</th>\n",
       "      <th>month</th>\n",
       "      <th>day</th>\n",
       "      <th>hour</th>\n",
       "      <th>revenue</th>\n",
       "      <th>week</th>\n",
       "    </tr>\n",
       "  </thead>\n",
       "  <tbody>\n",
       "    <tr>\n",
       "      <th>24126</th>\n",
       "      <td>539993</td>\n",
       "      <td>22386</td>\n",
       "      <td>jumbo bag pink polkadot</td>\n",
       "      <td>10</td>\n",
       "      <td>2011-04-01 10:00:00</td>\n",
       "      <td>1.95</td>\n",
       "      <td>13313.0</td>\n",
       "      <td>United Kingdom</td>\n",
       "      <td>2011-04</td>\n",
       "      <td>2011</td>\n",
       "      <td>4</td>\n",
       "      <td>1</td>\n",
       "      <td>10</td>\n",
       "      <td>19.5</td>\n",
       "      <td>5</td>\n",
       "    </tr>\n",
       "  </tbody>\n",
       "</table>\n",
       "</div>"
      ],
      "text/plain": [
       "      invoice_no stock_code              description  quantity  \\\n",
       "24126     539993      22386  jumbo bag pink polkadot        10   \n",
       "\n",
       "             invoice_date  unit_price customer_id         country year_month  \\\n",
       "24126 2011-04-01 10:00:00        1.95     13313.0  United Kingdom    2011-04   \n",
       "\n",
       "       year  month  day  hour  revenue  week  \n",
       "24126  2011      4    1    10     19.5     5  "
      ]
     },
     "execution_count": 154,
     "metadata": {},
     "output_type": "execute_result"
    }
   ],
   "source": [
    "# +1 to make Monday=1.....until Sunday=7\n",
    "\n",
    "data2011uk['week']=(data2011uk['invoice_date'].dt.dayofweek)+1\n",
    "data2011uk.head(1)"
   ]
  },
  {
   "cell_type": "code",
   "execution_count": 155,
   "metadata": {},
   "outputs": [
    {
     "data": {
      "image/png": "[encoded data removed]",
      "text/plain": [
       "<Figure size 720x360 with 1 Axes>"
      ]
     },
     "metadata": {
      "needs_background": "light"
     },
     "output_type": "display_data"
    }
   ],
   "source": [
    "ax = data2011uk.groupby('invoice_no')['week'].unique().value_counts().sort_index().plot(kind='bar', figsize=(10,5))\n",
    "ax.set_xlabel('Day',fontsize=10)\n",
    "ax.set_ylabel('Number of Orders',fontsize=10)\n",
    "ax.set_title('Number of orders for different Days',fontsize=10)\n",
    "ax.set_xticklabels(('Mon','Tue','Wed','Thur','Fri','Sat','Sun', ), rotation='horizontal', fontsize=10)\n",
    "plt.show()"
   ]
  },
  {
   "cell_type": "code",
   "execution_count": 156,
   "metadata": {},
   "outputs": [
    {
     "data": {
      "text/plain": [
       "array([ 6,  7,  8,  9, 10, 11, 12, 13, 14, 15, 16, 17, 18, 19, 20],\n",
       "      dtype=int64)"
      ]
     },
     "execution_count": 156,
     "metadata": {},
     "output_type": "execute_result"
    }
   ],
   "source": [
    "data2011uk['hour'].sort_values(ascending=True).unique()"
   ]
  },
  {
   "cell_type": "code",
   "execution_count": 157,
   "metadata": {},
   "outputs": [
    {
     "data": {
      "image/png": "[encoded data removed]",
      "text/plain": [
       "<Figure size 720x360 with 1 Axes>"
      ]
     },
     "metadata": {
      "needs_background": "light"
     },
     "output_type": "display_data"
    }
   ],
   "source": [
    "ax = data2011uk.groupby('invoice_no')['hour'].unique().value_counts().iloc[:-1].sort_index().plot(kind='bar',figsize=(10,5))\n",
    "\n",
    "ax.set_xlabel('Hour',fontsize=10)\n",
    "ax.set_ylabel('Number of Orders',fontsize=10)\n",
    "ax.set_title('Number of orders for different Hours',fontsize=10)\n",
    "ax.set_xticklabels(range(6,21), rotation='horizontal', fontsize=10)\n",
    "plt.show()\n",
    "\n"
   ]
  },
  {
   "cell_type": "code",
   "execution_count": null,
   "metadata": {},
   "outputs": [],
   "source": []
  },
  {
   "cell_type": "code",
   "execution_count": null,
   "metadata": {},
   "outputs": [],
   "source": []
  }
 ],
 "metadata": {
  "kernelspec": {
   "display_name": "Python 3",
   "language": "python",
   "name": "python3"
  },
  "language_info": {
   "codemirror_mode": {
    "name": "ipython",
    "version": 3
   },
   "file_extension": ".py",
   "mimetype": "text/x-python",
   "name": "python",
   "nbconvert_exporter": "python",
   "pygments_lexer": "ipython3",
   "version": "3.7.6"
  }
 },
 "nbformat": 4,
 "nbformat_minor": 4
}
